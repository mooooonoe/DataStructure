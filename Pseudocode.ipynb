{
 "cells": [
  {
   "cell_type": "markdown",
   "metadata": {},
   "source": [
    "# LIST "
   ]
  },
  {
   "cell_type": "code",
   "execution_count": null,
   "metadata": {},
   "outputs": [],
   "source": [
    "class ListNode:\n",
    "    def __init__(self, newItem, nextNode:'ListNode'):\n",
    "        self.item = newItem\n",
    "        self.next = nextNode"
   ]
  },
  {
   "cell_type": "code",
   "execution_count": null,
   "metadata": {},
   "outputs": [],
   "source": [
    "class LinkedListBasic:\n",
    "    def __init__(self):\n",
    "        self.__head = ListNode('dummy', None)       # dummy head 두는 버전\n",
    "        self.__numItems = 0\n",
    "\n",
    "    def insert(self, i, newItem):\n",
    "        if i >= 0 and i <= self.__numItems:\n",
    "            prev = self.__getNode(i-1)\n",
    "            newNode = ListNode(newItem, prev.next)\n",
    "            prev.next = newNode\n",
    "            self.__numItems += 1\n",
    "        \n",
    "        else:\n",
    "            print(\"index\",i,\": out of bound in insert()\")\n",
    "\n",
    "    def pop(self, i:int):\n",
    "        if(i>=0 and i<=self.__numItems-1):\n",
    "            prev = self.__getNode(i-1)\n",
    "            curr = prev.next\n",
    "            prev.next = curr.next\n",
    "            retItem = curr.item\n",
    "            self.__numItems -=1\n",
    "            return retItem\n",
    "        else:\n",
    "            return None\n",
    "        \n",
    "    def isEmpty(self):\n",
    "        return self.__numItems == 0\n",
    "    \n",
    "    def size(self):\n",
    "        return self.__numItems\n",
    "    \n",
    "    def clear(self):\n",
    "        self.__head = ListNode('dummy', None)\n",
    "        self.__numItems = 0\n",
    "    \n",
    "    def get(self, i:int):\n",
    "        if self.isEmpty():\n",
    "            return None\n",
    "        if (i>=0 and i<=self.__numItems-1):\n",
    "            return self.__getNode(i).item\n",
    "        else:\n",
    "            return None\n",
    "        \n",
    "    def __getNode(self,i:int)-> ListNode:\n",
    "        curr = self.__head\n",
    "        for id in range(i+1):\n",
    "            curr = curr.next\n",
    "        return curr\n",
    "\n",
    "    def index(self, x) -> int:\n",
    "        curr = self.__head.next\n",
    "        for id in range(self.__numItems):\n",
    "            if curr.item == x:\n",
    "                return id\n",
    "            else:\n",
    "                curr = curr.next\n",
    "        return -2\n",
    "    \n",
    "\n",
    "    # (+) SORTING\n",
    "    def sort(self) -> None:\n",
    "        a = []\n",
    "        for id in range(self.__numItems):\n",
    "            a.append(self.get(id))\n",
    "        a.sort()\n",
    "        self.clear()\n",
    "        for id in range(len(a)):\n",
    "            self.append(a[id])\n",
    "            "
   ]
  },
  {
   "cell_type": "markdown",
   "metadata": {},
   "source": [
    "##### 연결리스트"
   ]
  },
  {
   "cell_type": "code",
   "execution_count": null,
   "metadata": {},
   "outputs": [],
   "source": [
    "# 원소 삽입 algorithm 5-1,2\n",
    "    # dummy head 없을때     <- __head 랑 prev.next 를 구분해서 코드 짜야함\n",
    "if i == 0:\n",
    "    newNode.item = x\n",
    "    newNode.next == __head\n",
    "    __head = newNode\n",
    "    __numItems += 1\n",
    "else :\n",
    "    newNode.item = x\n",
    "    newNode.next = prev.next\n",
    "    prev.next = newNode\n",
    "    __numItems += 1\n",
    "\n",
    "    # dummy head 있을때     <- head 에 원소 삽입 해도 prev.next 로 통일\n",
    "newNode.item = x    \n",
    "newNode.next = prev.next    \n",
    "prev.next = newNode\n",
    "__numItems += 1\n",
    "\n",
    "# 원소 삭제 algorithm 5-3,4\n",
    "    # dummy head 없을때 \n",
    "if i == 0:\n",
    "    __head.next = __head.next.next\n",
    "    __numItems -= 1\n",
    "\n",
    "else:\n",
    "    prev.next = prev.next.next\n",
    "    __numItems -= 1\n",
    "\n",
    "    # dummy head 있을때 \n",
    "prev.next = prev.next.next \n",
    "__numItems -=1\n",
    "\n",
    "\n",
    "# 연결리스트의 i번 원소 알려주기\n",
    "def get(i):\n",
    "    if i>=0 and i<=__numItems -1:\n",
    "        return __getNode(i).item\n",
    "\n",
    "    else:\n",
    "        print(\"err in get(\",i,\")\")\n",
    "\n",
    "def __getNode(i):\n",
    "    curr = __head\n",
    "    for id in range(i+1):\n",
    "        curr = curr.next\n",
    "    return curr\n",
    "\n",
    "# 원소 X 가 몇번째 원소인지 알려주기\n",
    "def index(x):\n",
    "    curr = __head # 더미 헤드\n",
    "    for id in range(__numItems):\n",
    "        curr = curr.next\n",
    "        if curr.item == x:\n",
    "            return id\n",
    "    return -12345"
   ]
  },
  {
   "cell_type": "code",
   "execution_count": null,
   "metadata": {},
   "outputs": [],
   "source": [
    "        \n",
    "def isEmpty(self):\n",
    "    return self.__numItems == 0\n",
    "\n",
    "def size(self):\n",
    "    return self.__numItems\n",
    "\n",
    "def clear(self):\n",
    "    newNode.next = None\n",
    "    __head = newNode\n",
    "    __numItems = 0"
   ]
  },
  {
   "cell_type": "markdown",
   "metadata": {},
   "source": [
    "##### 원형연결리스트"
   ]
  },
  {
   "cell_type": "code",
   "execution_count": null,
   "metadata": {},
   "outputs": [],
   "source": [
    "class CircularLinkedList:\n",
    "    def __init__(self):\n",
    "       self.__tail = ListNode(\"dummy\", None)                # 연결리스트의 끝\n",
    "       self.__tail.next = self.__tail                       # 연결리스트의 시작\n",
    "       self.__numItems = 0\n",
    "    \n",
    "    def insert(self, i:int, newItem) -> None:\n",
    "        if (i>=0 and i <= self.__numItems):\n",
    "            prev = self.getNode(i-1)\n",
    "            newNode = ListNode(newItem, prev.next)\n",
    "            if i == self.__numItems:\n",
    "                self.__tail = newNode\n",
    "        else:\n",
    "            print(\"out of bound\")\n",
    "\n",
    "    def append(self, newItem) -> None:\n",
    "        newNode = ListNode(newItem, self.__tail.next)          ## ListNode 를 newitem 으로 가장 먼저 만들기 prev 이딴거 필요없움\n",
    "        self.__tail.next = newNode\n",
    "        self.__tail = newNode\n",
    "        self.__numItems += 1\n",
    "        \n",
    "\n"
   ]
  },
  {
   "cell_type": "code",
   "execution_count": null,
   "metadata": {},
   "outputs": [],
   "source": [
    "# append() 개선\n",
    "\n",
    "newNode.item = 50\n",
    "newNode.next = __tail.next\n",
    "__tail.next = newNode\n",
    "__tail = newNode\n",
    "__numItems += 1\n",
    "\n",
    "\n",
    "# pop() 개선 # args 가변 파라미터의 사용\n",
    "def pop(self, *args):\n",
    "    if self.isEmpty():\n",
    "        return None\n",
    "\n",
    "    if len(args) != 0:\n",
    "        i = args[0]\n",
    "\n",
    "    if len(args) == 0 or i == -1:\n",
    "        i = self.__numItems -1\n",
    "\n",
    "    if i >= 0 and i<=self.__numItems -1 :\n",
    "        prev = self.getNode(i-1)\n",
    "        retitem = prev.next.item\n",
    "        prev.next = prev.next.next\n",
    "        if i == self.__numItems -1:\n",
    "            self.__tail = prev\n",
    "        self.__numItems -= 1\n",
    "        return retitem\n",
    "    else:\n",
    "        return None\n"
   ]
  },
  {
   "cell_type": "markdown",
   "metadata": {},
   "source": [
    "##### 순회자 사용"
   ]
  },
  {
   "cell_type": "code",
   "execution_count": 15,
   "metadata": {},
   "outputs": [],
   "source": [
    "class CircularLinkedList:\n",
    "    ...\n",
    "    def __iter__(self):\n",
    "        return CircularLinkedListIterator(self)\n",
    "    \n",
    "class CircularLinkedListIterator:\n",
    "    def __init__(self, alist):\n",
    "        self.__head = alist.getNode(-1)\n",
    "        self.iterPosition = self.__head.next\n",
    "    def __next__(self):\n",
    "        if self.iterPosition == self.__head:\n",
    "            return StopIteration\n",
    "        else:\n",
    "            item = self.iterPosition.item\n",
    "            self.iterPostion = self.iterPosition.next\n",
    "            return item"
   ]
  },
  {
   "cell_type": "code",
   "execution_count": 16,
   "metadata": {},
   "outputs": [
    {
     "name": "stdout",
     "output_type": "stream",
     "text": [
      "1\n",
      "2\n"
     ]
    },
    {
     "ename": "StopIteration",
     "evalue": "",
     "output_type": "error",
     "traceback": [
      "\u001b[1;31m---------------------------------------------------------------------------\u001b[0m",
      "\u001b[1;31mStopIteration\u001b[0m                             Traceback (most recent call last)",
      "Cell \u001b[1;32mIn[16], line 51\u001b[0m\n\u001b[0;32m     49\u001b[0m iterator \u001b[38;5;241m=\u001b[39m \u001b[38;5;28miter\u001b[39m(clist)\n\u001b[0;32m     50\u001b[0m \u001b[38;5;28;01mfor\u001b[39;00m _ \u001b[38;5;129;01min\u001b[39;00m \u001b[38;5;28mrange\u001b[39m(\u001b[38;5;241m10\u001b[39m):\n\u001b[1;32m---> 51\u001b[0m     \u001b[38;5;28mprint\u001b[39m(\u001b[38;5;28mnext\u001b[39m(iterator))\n",
      "Cell \u001b[1;32mIn[16], line 36\u001b[0m, in \u001b[0;36mCircularLinkedListIterator.__next__\u001b[1;34m(self)\u001b[0m\n\u001b[0;32m     34\u001b[0m \u001b[38;5;28mself\u001b[39m\u001b[38;5;241m.\u001b[39miterPosition \u001b[38;5;241m=\u001b[39m \u001b[38;5;28mself\u001b[39m\u001b[38;5;241m.\u001b[39miterPosition\u001b[38;5;241m.\u001b[39mnext\n\u001b[0;32m     35\u001b[0m \u001b[38;5;28;01mif\u001b[39;00m \u001b[38;5;28mself\u001b[39m\u001b[38;5;241m.\u001b[39miterPosition \u001b[38;5;241m==\u001b[39m \u001b[38;5;28mself\u001b[39m\u001b[38;5;241m.\u001b[39m__head:\n\u001b[1;32m---> 36\u001b[0m     \u001b[38;5;28;01mraise\u001b[39;00m \u001b[38;5;167;01mStopIteration\u001b[39;00m\n\u001b[0;32m     37\u001b[0m \u001b[38;5;28;01mreturn\u001b[39;00m item\n",
      "\u001b[1;31mStopIteration\u001b[0m: "
     ]
    }
   ],
   "source": [
    "class Node:\n",
    "    def __init__(self, item=None):\n",
    "        self.item = item\n",
    "        self.next = None\n",
    "\n",
    "class CircularLinkedList:\n",
    "    def __init__(self):\n",
    "        self.head = None\n",
    "\n",
    "    def append(self, item):\n",
    "        new_node = Node(item)\n",
    "        if not self.head:\n",
    "            self.head = new_node\n",
    "            self.head.next = self.head\n",
    "        else:\n",
    "            current = self.head\n",
    "            while current.next != self.head:\n",
    "                current = current.next\n",
    "            current.next = new_node\n",
    "            new_node.next = self.head\n",
    "\n",
    "    def __iter__(self):\n",
    "        return CircularLinkedListIterator(self)\n",
    "\n",
    "class CircularLinkedListIterator:\n",
    "    def __init__(self, alist):\n",
    "        self.__head = alist.head\n",
    "        self.iterPosition = self.__head\n",
    "\n",
    "    def __next__(self):\n",
    "        if not self.__head:\n",
    "            raise StopIteration\n",
    "        item = self.iterPosition.item\n",
    "        self.iterPosition = self.iterPosition.next\n",
    "        if self.iterPosition == self.__head:\n",
    "            raise StopIteration\n",
    "        return item\n",
    "\n",
    "\n",
    "# 원형 연결리스트 인스턴스 생성\n",
    "clist = CircularLinkedList()\n",
    "\n",
    "# 원형 연결리스트에 아이템 추가\n",
    "clist.append(1)\n",
    "clist.append(2)\n",
    "clist.append(3)\n",
    "\n",
    "# 순회자를 이용하여 원형 연결리스트 무한 순회\n",
    "iterator = iter(clist)\n",
    "for _ in range(10):\n",
    "    print(next(iterator))\n"
   ]
  },
  {
   "cell_type": "code",
   "execution_count": 17,
   "metadata": {},
   "outputs": [
    {
     "name": "stdout",
     "output_type": "stream",
     "text": [
      "1\n",
      "2\n",
      "순회 종료\n"
     ]
    }
   ],
   "source": [
    "class Node:\n",
    "    def __init__(self, item=None):\n",
    "        self.item = item\n",
    "        self.next = None\n",
    "\n",
    "class CircularLinkedList:\n",
    "    def __init__(self):\n",
    "        self.head = None\n",
    "\n",
    "    def append(self, item):\n",
    "        new_node = Node(item)\n",
    "        if not self.head:\n",
    "            self.head = new_node\n",
    "            self.head.next = self.head\n",
    "        else:\n",
    "            current = self.head\n",
    "            while current.next != self.head:\n",
    "                current = current.next\n",
    "            current.next = new_node\n",
    "            new_node.next = self.head\n",
    "\n",
    "    def __iter__(self):\n",
    "        return CircularLinkedListIterator(self)\n",
    "\n",
    "class CircularLinkedListIterator:\n",
    "    def __init__(self, alist):\n",
    "        self.__head = alist.head\n",
    "        self.iterPosition = self.__head\n",
    "\n",
    "    def __next__(self):\n",
    "        if not self.__head:\n",
    "            raise StopIteration\n",
    "        item = self.iterPosition.item\n",
    "        self.iterPosition = self.iterPosition.next\n",
    "        if self.iterPosition == self.__head:\n",
    "            raise StopIteration\n",
    "        return item\n",
    "\n",
    "# 원형 연결리스트 인스턴스 생성\n",
    "clist = CircularLinkedList()\n",
    "\n",
    "# 원형 연결리스트에 아이템 추가\n",
    "clist.append(1)\n",
    "clist.append(2)\n",
    "clist.append(3)\n",
    "\n",
    "# 순회자를 이용하여 원형 연결리스트 무한 순회\n",
    "iterator = iter(clist)\n",
    "try:\n",
    "    while True:\n",
    "        print(next(iterator))\n",
    "except StopIteration:\n",
    "    print(\"순회 종료\")\n"
   ]
  },
  {
   "cell_type": "markdown",
   "metadata": {},
   "source": [
    "\n",
    "##### 양방향연결리스트"
   ]
  },
  {
   "cell_type": "code",
   "execution_count": null,
   "metadata": {},
   "outputs": [],
   "source": [
    "class bidirectNode:\n",
    "    def __init__(self, x, prevNode: 'bidirectNode', nextNode: 'bidirectNode'):\n",
    "        self.item = x\n",
    "        self.prev = prevNode\n",
    "        self.next = nextNode\n",
    "\n",
    "class CircularDoublyLinkedList:\n",
    "    def __init__(self):\n",
    "        self.__head = bidirectNode(\"dummy\", None, None)\n",
    "        self.__head.prev = self.__head\n",
    "        self.__head.next = self.__head\n",
    "        self.__numItems = 0\n",
    "\n",
    "    def append(self, newItem):\n",
    "        prev = self.__head.prev \n",
    "        newNode = bidirectNode(newItem, prev, prev.next)\n",
    "        prev.next = newNode\n",
    "        self.__head.prev = newNode\n",
    "        self.__numItems += 1\n",
    "\n",
    "    def insert(self, newItem, i:int):\n",
    "        prev = self.get(i)\n",
    "        newNode = bidirectNode(newItem, prev, prev.next)\n",
    "\n",
    "    \n",
    "    \n",
    "    def get(self, i) -> bidirectNode:       ###### 가변 파라미터 써서 다시 코드 쓰기 !!!!!!!\n",
    "        prev = self.__head\n",
    "        for id in range(self.__numItems-1):\n",
    "            이 ? getNode(id)\n",
    "            if id == i:\n",
    "                return prev.item\n",
    "            prev = prev.next\n",
    "\n"
   ]
  },
  {
   "cell_type": "code",
   "execution_count": null,
   "metadata": {},
   "outputs": [],
   "source": [
    "# 양방향 연결 리스트 원소 삽입\n",
    "newNode.item = 38\n",
    "newNode.next = prev.next\n",
    "newNode.prev = prev\n",
    "prev.next.prev = newNode\n",
    "prev.next = newNode\n",
    "__numItems += 1\n",
    "\n",
    "# 양방향 연결 리스트 원소 삭제\n",
    "curr.prev.next = curr.next\n",
    "curr.next.prev = curr.prev\n",
    "__numItems -=1"
   ]
  },
  {
   "cell_type": "markdown",
   "metadata": {},
   "source": [
    "# STACK"
   ]
  },
  {
   "cell_type": "markdown",
   "metadata": {},
   "source": [
    "##### List Stack"
   ]
  },
  {
   "cell_type": "code",
   "execution_count": 21,
   "metadata": {},
   "outputs": [],
   "source": [
    "class ListStack:\n",
    "    def __init__(self):\n",
    "        self.__stack = []\n",
    "\n",
    "    def push(self, x):\n",
    "        self.__stack.append(x)\n",
    "\n",
    "    def pop(self):\n",
    "        return self.__stack.pop()\n",
    "    \n",
    "    def top(self):\n",
    "        if self.isEmpty():\n",
    "            return None\n",
    "        else:\n",
    "            return self.__stack[-1]\n",
    "        \n",
    "    def isEmpty(self):\n",
    "        return not bool(self.__stack)\n",
    "    \n",
    "    def printStack(self):\n",
    "        print(\"Stack from top:\", end = '')\n",
    "        for i in range(len(self.__stack)-1, -1,-1):\n",
    "            print(self.__stack[i], end = ' ')\n",
    "\n",
    "            print( )\n"
   ]
  },
  {
   "cell_type": "code",
   "execution_count": null,
   "metadata": {},
   "outputs": [],
   "source": [
    "# 원소 삽입\n",
    "def push(self, x):\n",
    "\tself.__stack.append(x)\n",
    "# 원소 삭제\n",
    "def pop(self):\n",
    "\treturn self.__stack.pop()"
   ]
  },
  {
   "cell_type": "markdown",
   "metadata": {},
   "source": [
    "##### Linked List STack"
   ]
  },
  {
   "cell_type": "code",
   "execution_count": null,
   "metadata": {},
   "outputs": [],
   "source": [
    "class LinkedListStack:\n",
    "    def __init__(self):\n",
    "        self.__list = LinkedListBasic()\n",
    "\n",
    "    def push(self, x):\n",
    "        self.__list.insert(0, x)\n",
    "\n",
    "    def pop(self):\n",
    "        return self.__list.pop(0)"
   ]
  },
  {
   "cell_type": "code",
   "execution_count": 19,
   "metadata": {},
   "outputs": [],
   "source": [
    "# 원소 삽입\n",
    "def push(self, x):\n",
    "\tself.__stack.insert(0, x)\n",
    "# 원소 삭제\n",
    "def pop(self):\n",
    "\treturn self.__stack.pop(0)"
   ]
  },
  {
   "cell_type": "markdown",
   "metadata": {},
   "source": [
    "# QUEUEU"
   ]
  },
  {
   "cell_type": "markdown",
   "metadata": {},
   "source": [
    "List Queue"
   ]
  },
  {
   "cell_type": "code",
   "execution_count": null,
   "metadata": {},
   "outputs": [],
   "source": [
    "class ListQueue:\n",
    "\tdef __init__(self):\n",
    "\t\tself.__queue = []\n",
    "\n",
    "\tdef enqueue(self, x):\n",
    "\t\tself.__queue.append(x)\n",
    "\n",
    "\tdef dequeue(self):\n",
    "\t\treturn self.__queue.pop(0) # .pop(0): 리스트의 첫 원소를 삭제한 후 원소 리턴\n",
    "\n",
    "\tdef front(self):\n",
    "\t\tif self.isEmpty():\n",
    "\t\t\treturn None\n",
    "\t\telse:\n",
    "\t\t\treturn self.__queue[0]"
   ]
  },
  {
   "cell_type": "code",
   "execution_count": null,
   "metadata": {},
   "outputs": [],
   "source": [
    "def front(self):\n",
    "    if self.isEmpty():\n",
    "        return None\n",
    "    else:\n",
    "        return self.__queue[0]"
   ]
  },
  {
   "cell_type": "markdown",
   "metadata": {},
   "source": [
    "Linked List Queue"
   ]
  },
  {
   "cell_type": "code",
   "execution_count": null,
   "metadata": {},
   "outputs": [],
   "source": [
    "class LinkedQueue:\n",
    "\tdef __init__(self):\n",
    "\t\tself.__queue = CircularLinkedList()\n",
    "\n",
    "\tdef enqueue(self, x):\n",
    "\t\tself.__queue.append(x)\n",
    "\n",
    "\tdef dequeue(self):\n",
    "\t\treturn self.__queue.pop(0)\t# .pop(0): 리스트의 첫 원소를 삭제한 후 원소 리턴\n",
    "\n",
    "\tdef front(self):\n",
    "\t\treturn self.__queue.get(0)"
   ]
  },
  {
   "cell_type": "code",
   "execution_count": null,
   "metadata": {},
   "outputs": [],
   "source": [
    "def fron(self):\n",
    "    return self.__queue.get(0) # inked list 에 있는 메서드 인 get 을 가지고 와서 사용 이때 self.get(0) 이 아닌 self.__queue.get(0) "
   ]
  },
  {
   "cell_type": "code",
   "execution_count": null,
   "metadata": {},
   "outputs": [],
   "source": [
    "#원소 삽입\n",
    "def enqueue(self, x):\n",
    "    self.__queue.append(x)\n",
    "\n",
    "def dequeue(self):\n",
    "    self.__queue.pop(0)"
   ]
  }
 ],
 "metadata": {
  "kernelspec": {
   "display_name": "base",
   "language": "python",
   "name": "python3"
  },
  "language_info": {
   "codemirror_mode": {
    "name": "ipython",
    "version": 3
   },
   "file_extension": ".py",
   "mimetype": "text/x-python",
   "name": "python",
   "nbconvert_exporter": "python",
   "pygments_lexer": "ipython3",
   "version": "3.11.7"
  }
 },
 "nbformat": 4,
 "nbformat_minor": 2
}
