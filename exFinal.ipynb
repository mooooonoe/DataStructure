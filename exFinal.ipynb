{
 "cells": [
  {
   "cell_type": "markdown",
   "metadata": {},
   "source": [
    "ch 8 heap"
   ]
  },
  {
   "cell_type": "markdown",
   "metadata": {},
   "source": [
    "01. 최대 힙에서는 가장 큰 원소가 항상 루트에 있다. 즉, 루트의 깊이가 가장 얕다. 임의의 최대 힙에서 더 얕은 곳에 있는 원소가 더 깊은 곳에 있는 원소보다 더 작은 값을 가질 수 있는가?"
   ]
  },
  {
   "cell_type": "markdown",
   "metadata": {},
   "source": [
    "A. 루트 노드는 힙의 가장 큰 원소이고 각 부모노드는 자식 노드들보다 항상 큰 값을 가짐\n",
    "\n",
    "즉, 힙에서 더 얕은 깊이에 있는 노드들은 \"항상\" 더 깊은 곳에 있는 자식 노드들보다 크거나 같아야 함\n"
   ]
  },
  {
   "cell_type": "markdown",
   "metadata": {},
   "source": [
    "          9\n",
    "       /     \\\n",
    "     7         8\n",
    "   /  \\      /   \\\n",
    "  5    3    3     5\n",
    " / \\\n",
    "4   1"
   ]
  },
  {
   "cell_type": "markdown",
   "metadata": {},
   "source": [
    "2. 최대 힙 A[0 ... n-1]에서 A[0]은 항상 가장 큰 값을 가지고 있다. 반대로 마지막 원소인 A[n-1]은 항상 작은 값을 가지는가?"
   ]
  },
  {
   "cell_type": "code",
   "execution_count": null,
   "metadata": {},
   "outputs": [],
   "source": []
  },
  {
   "cell_type": "markdown",
   "metadata": {},
   "source": [
    "4. 리스트 A[0...n-1]을 대상으로 하는 스며내리기 알고리즘에서 최악의 경우에 해당하는 시간과 최선의 경우에 해당하는 시간은 어떻게 되는가? 세타 표기법으로 나타내시오"
   ]
  },
  {
   "cell_type": "code",
   "execution_count": null,
   "metadata": {},
   "outputs": [],
   "source": []
  },
  {
   "cell_type": "markdown",
   "metadata": {},
   "source": [
    "ch 9 sort"
   ]
  },
  {
   "cell_type": "markdown",
   "metadata": {},
   "source": [
    "ch 10 binary tree"
   ]
  },
  {
   "cell_type": "markdown",
   "metadata": {},
   "source": []
  }
 ],
 "metadata": {
  "kernelspec": {
   "display_name": "base",
   "language": "python",
   "name": "python3"
  },
  "language_info": {
   "codemirror_mode": {
    "name": "ipython",
    "version": 3
   },
   "file_extension": ".py",
   "mimetype": "text/x-python",
   "name": "python",
   "nbconvert_exporter": "python",
   "pygments_lexer": "ipython3",
   "version": "3.11.7"
  }
 },
 "nbformat": 4,
 "nbformat_minor": 2
}
