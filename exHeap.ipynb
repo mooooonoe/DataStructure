{
 "cells": [
  {
   "cell_type": "code",
   "execution_count": null,
   "metadata": {},
   "outputs": [],
   "source": [
    "class Heap:\n",
    "    def __init__(self, *args):\n",
    "        if len(args) != 0:\n",
    "            self.__A = args[0]\n",
    "        else:\n",
    "            self.__A = []\n",
    "\n",
    "    def insert(self, x):\n",
    "        self.__A.append(x)\n",
    "        self.__percolateUp(len(self.__A)-1)\n",
    "\n",
    "    def __percolateUp(self, i:int):\n",
    "        parent = (i-1)//2\n",
    "        if i>0 and self.__A[i] > self.__A[parent]:\n",
    "            self.__A[i], self.__A[parent] = self.__A[parent], self.__A[i]\n",
    "            self.__percolateUp(parent)\n",
    "\n",
    "    def deleteMax(self):\n",
    "        if(not self.isEmpty()):\n",
    "            max = self.__A[0]\n",
    "            self.__A[0] = self.__A.pop()\n",
    "            self.__percolateDown(0)\n",
    "            return max\n",
    "        else:\n",
    "            return None\n",
    "\n",
    "    def __percolateDown(self, i:int):\n",
    "        child = 2*i + 1\n",
    "        right = 2*i + 2\n",
    "        if (child <= len(self.__A)-1):\n",
    "            if (right <= len(self.__A)-1 and self.__A[child] < self.__A[right]):\n",
    "                chile = right\n",
    "            if self.__A[i] < self.__A[child]:\n",
    "                self.__A[i], self.__A[child] = self.__A[child], self.__A[i]\n",
    "                self.__percolateDown(child)\n",
    "                \n",
    "    def max(self):\n",
    "        return self.__A[0]\n",
    "\n",
    "    def isEmpty(self) -> bool:\n",
    "        return len(self.__A) == 0\n",
    "\n",
    "    def buildHeap(self):\n",
    "        for i in range((len(self.__A)-2)//2, -1, -1):\n",
    "            self.__percolateDown(i)\n",
    "\n",
    "    def clear(self):\n",
    "        self.__A = []\n",
    "\n",
    "    def size(self)-> int:\n",
    "        return len(self.__A)\n",
    "    \n",
    "    def heapPrint(self):\n",
    "        depth = 0\n",
    "        num_nodes = len(self.__A)\n",
    "        while 2**depth - 1 < num_nodes:\n",
    "            for i in range(2**depth - 1, min(2**(depth+1) - 1, num_nodes)):\n",
    "                print(self.__A[i], end=\" \")\n",
    "            print()\n",
    "            depth += 1\n",
    "        "
   ]
  },
  {
   "cell_type": "code",
   "execution_count": null,
   "metadata": {},
   "outputs": [],
   "source": [
    "h1 = Heap([1, 11, 9, 2, 3])\n",
    "h1.buildHeap()\n",
    "h1.clear()\n",
    "h1.insert(7)\n",
    "h1.insert(5)\n",
    "h1.insert(9)\n",
    "h1.insert(4)\n",
    "h1.insert(11)\n",
    "h1.insert(19)\n",
    "h1.insert(20)\n",
    "h1.insert(21)\n",
    "h1.insert(11)\n",
    "h1.heapPrint()\n",
    "h1.deleteMax()\n",
    "h1.heapPrint()"
   ]
  },
  {
   "cell_type": "code",
   "execution_count": null,
   "metadata": {},
   "outputs": [],
   "source": [
    "class TreeNode:\n",
    "    def __init__(self, v, lc, rc):\n",
    "        self.v = v\n",
    "        self.lc = lc\n",
    "        self.rc = rc\n",
    "\n",
    "    def is_ls_node(self):\n",
    "        return (self.lc is None) and (self.re is None)"
   ]
  },
  {
   "cell_type": "code",
   "execution_count": null,
   "metadata": {},
   "outputs": [],
   "source": [
    "#g = TreeNode('G', None, None)   # leaf node\n",
    "f = TreeNode('F', None, None)      # intermediate node\n",
    "e = TreeNode('E', None, None)\n",
    "d = TreeNode('D', None, None)\n",
    "c = TreeNode('C', f, None)\n",
    "b = TreeNode('B', d, e)\n",
    "a = TreeNode('A', b, c)\n",
    "root = a  # root node"
   ]
  },
  {
   "cell_type": "code",
   "execution_count": null,
   "metadata": {},
   "outputs": [],
   "source": [
    "def get_height(node):\n",
    "    if node is None:\n",
    "        return 0\n",
    "    \n",
    "    return max(get_height(node.lc), get_height(node.rc))+1\n"
   ]
  },
  {
   "cell_type": "code",
   "execution_count": null,
   "metadata": {},
   "outputs": [],
   "source": [
    "get_height(root)"
   ]
  },
  {
   "cell_type": "code",
   "execution_count": null,
   "metadata": {},
   "outputs": [],
   "source": [
    "# travesal\n",
    "# preorder 전체를 다 도는 방식\n",
    "def preorder(node):\n",
    "    if node is None:\n",
    "        return 0\n",
    "    print(node.v, end='')\n",
    "\n",
    "    preorder(node.lc)\n",
    "    preorder(node.rc)\n",
    "\n",
    "preorder(root)\n",
    "print(' ')\n",
    "\n",
    "# inorder 중간에 자기 자신을 출력하는 방식\n",
    "def inorder(node):\n",
    "    if node is None:\n",
    "        return 0 \n",
    "    inorder(node.lc)\n",
    "    print(node.v, end='')\n",
    "    inorder(node.rc)\n",
    "\n",
    "inorder(root)\n",
    "print(' ')\n",
    "# postorder \n",
    "def postorder(node):\n",
    "    if node is None:\n",
    "        return 0\n",
    "    postorder(node.lc)\n",
    "    postorder(node.rc)\n",
    "    print(node.v, end='')\n",
    "\n",
    "postorder(root)"
   ]
  },
  {
   "cell_type": "code",
   "execution_count": null,
   "metadata": {},
   "outputs": [],
   "source": [
    "def print_tree(root):\n",
    "    content = ''\n",
    "    \n",
    "    # inner function\n",
    "    def print_tree_traverse(node, depth=0, child_type=None):        \n",
    "        if node is None:\n",
    "            return\n",
    "        \n",
    "        nonlocal content\n",
    "        print_tree_traverse(node.rc, depth+1, 'rc')\n",
    "\n",
    "        content += \"  │\" * (depth - 1)\n",
    "        content += \"  \" if depth > 0 else \"\"\n",
    "\n",
    "        if child_type == 'lc':\n",
    "            content += \"└\"\n",
    "        elif child_type == 'rc':\n",
    "            content += \"┌\"\n",
    "\n",
    "        content += f\"--{node.v}\\n\"\n",
    "        print_tree_traverse(node.lc, depth+1, 'lc')\n",
    "\n",
    "    \n",
    "    print_tree_traverse(root)\n",
    "    content = content.split('\\n')\n",
    "    content[0] = content[0].replace('│', ' ')\n",
    "    content[-2] = content[-2].replace('│', ' ')\n",
    "    print('\\n'.join(content))\n",
    "\n",
    "h = TreeNode('H', None, None)\n",
    "g = TreeNode('G', None, None)\n",
    "f = TreeNode('F', None, g)\n",
    "e = TreeNode('E', None, None)\n",
    "d = TreeNode('D', None, None)\n",
    "c = TreeNode('C', f, h)\n",
    "b = TreeNode('B', d, e)\n",
    "a = TreeNode('A', b, c)\n",
    "root = a\n",
    "print_tree(root)"
   ]
  },
  {
   "cell_type": "markdown",
   "metadata": {},
   "source": [
    "ch 8 heap 예제문제"
   ]
  },
  {
   "cell_type": "markdown",
   "metadata": {},
   "source": [
    "우선순위 큐 구현할때 - 힙을 사용\n",
    "\n",
    "리스트는 항상 와전 이진트리 니까 ㅇㅇ 리스트가 힙 특성을 만족하도록 수선 해야 함\n",
    "\n",
    "원소 삽입 - 스며오르기 메서드 사용 \n",
    "    (재귀적 으로 봐서 작은 문제로 .. 볼 수 있어서 재귀 로도 코드를 짤 수도 있음)\n",
    "\n",
    "원소 삭제 - 우선순위 큐이기 때문에 max 값 즉, root 값을 제거 해줘야 함 \n",
    "제거된 값을 힙 구조로 다시 바꿔줘야 _ root 없애면 제일 작은 값이 root 로 올라감 (?왜)\n",
    "부모노드를 root 로 하는 서브 트리로 정렬 ~ \n",
    "\n"
   ]
  },
  {
   "cell_type": "markdown",
   "metadata": {},
   "source": [
    "1. 짝수 길이의 정수 배열 nums 와 비어있는 배열 arr 이 주어져 있을때, 철수 영희가 각각 다음과 같은 행동을 한다.\n",
    "(1)먼저 철수가 nums의 최솟값을 제거하고 영희도 같은 행동을 한다.\n",
    "(2)먼저 영희가 제거한 최솟값을 arr에 append 하고 철수도 같은 행동을 한다.\n",
    "위와 같은 행동은 nums가 빌 때까지 한다. 이때 arr를 반환 하시"
   ]
  },
  {
   "cell_type": "code",
   "execution_count": 13,
   "metadata": {},
   "outputs": [
    {
     "name": "stdout",
     "output_type": "stream",
     "text": [
      "[1, 2, 5, 4, 3]\n",
      "1\n",
      "[2, 3, 5, 4]\n"
     ]
    }
   ],
   "source": [
    "# 1. 철수 영희 문제 \n",
    "# 파이썬 내부에서 제공해주는 힙 사용 하려고 합니다 ~  -> heapq : min heap 을 제공하는데 우선 순위가 낮은 값부터 제거하는 형식 ~\n",
    " \n",
    "import heapq as hq\n",
    "\n",
    "A = [1,4,5,2,3]\n",
    "\n",
    "hq.heapify(A)\n",
    "\n",
    "print(A)\n",
    "\n",
    "a = hq.heappop(A)\n",
    "print(a)\n",
    "print(A)"
   ]
  },
  {
   "cell_type": "code",
   "execution_count": 14,
   "metadata": {},
   "outputs": [],
   "source": [
    "import heapq as hq\n",
    "\n",
    "nums = [1,2,3,4]\n",
    "arr = []\n",
    "\n",
    "hq.heapify(nums)\n",
    "Alice = hq.heappop(nums)\n",
    "Bob = hq.heapify\n",
    "\n",
    "while nums:\n",
    "    arr.append(Bob)\n",
    "    arr.append(Alice)"
   ]
  },
  {
   "cell_type": "markdown",
   "metadata": {},
   "source": [
    "2. 정수 배열 nums 가 주어졌을때, 두개의 인덱스 i와 j를 고른다 이때 (nums[i]-1)*(nums[j]-1)의 최댓값을 반환하시오"
   ]
  },
  {
   "cell_type": "code",
   "execution_count": 16,
   "metadata": {},
   "outputs": [
    {
     "name": "stdout",
     "output_type": "stream",
     "text": [
      "12\n"
     ]
    }
   ],
   "source": [
    "nums = [3,7]\n",
    "nums = [-i for i in nums]\n",
    "# nums = [-1,-2,-3,-4]\n",
    "hq.heapify(nums)\n",
    "\n",
    "a1 = -hq.heappop(nums)\n",
    "a2 = -hq.heappop(nums)\n",
    "a3 = (a1-1)*(a2-1) \n",
    "print(a3)"
   ]
  },
  {
   "cell_type": "markdown",
   "metadata": {},
   "source": [
    "3. 자연수로 이루어진 mxn 행렬 grid 가 있다고 하자. 이때 grid 가 빌때까지 다음을 수행하시오 <br/>\n",
    "(1) 각 행에 최댓값을 제거<br/>\n",
    "(2) 제거한 값들 중 최댓값을 answer 에 더해줌"
   ]
  },
  {
   "cell_type": "code",
   "execution_count": null,
   "metadata": {},
   "outputs": [],
   "source": []
  }
 ],
 "metadata": {
  "kernelspec": {
   "display_name": "Python 3",
   "language": "python",
   "name": "python3"
  },
  "language_info": {
   "codemirror_mode": {
    "name": "ipython",
    "version": 3
   },
   "file_extension": ".py",
   "mimetype": "text/x-python",
   "name": "python",
   "nbconvert_exporter": "python",
   "pygments_lexer": "ipython3",
   "version": "3.11.9"
  }
 },
 "nbformat": 4,
 "nbformat_minor": 2
}
