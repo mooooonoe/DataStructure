{
 "cells": [
  {
   "cell_type": "code",
   "execution_count": 14,
   "metadata": {},
   "outputs": [],
   "source": [
    "class Heap:\n",
    "    def __init__(self, *args):\n",
    "        if len(args) != 0:\n",
    "            self.__A = args[0]\n",
    "        else:\n",
    "            self.__A = []\n",
    "\n",
    "    def insert(self, x):\n",
    "        self.__A.append(x)\n",
    "        self.__percolateUp(len(self.__A)-1)\n",
    "\n",
    "    def __percolateUp(self, i:int):\n",
    "        parent = (i-1)//2\n",
    "        if i>0 and self.__A[i] > self.__A[parent]:\n",
    "            self.__A[i], self.__A[parent] = self.__A[parent], self.__A[i]\n",
    "            self.__percolateUp(parent)\n",
    "\n",
    "    def deleteMax(self):\n",
    "        if(not self.isEmpty()):\n",
    "            max = self.__A[0]\n",
    "            self.__A[0] = self.__A.pop()\n",
    "            self.__percolateDown(0)\n",
    "            return max\n",
    "        else:\n",
    "            return None\n",
    "\n",
    "    def __percolateDown(self, i:int):\n",
    "        child = 2*i + 1\n",
    "        right = 2*i + 2\n",
    "        if (child <= len(self.__A)-1):\n",
    "            if (right <= len(self.__A)-1 and self.__A[child] < self.__A[right]):\n",
    "                chile = right\n",
    "            if self.__A[i] < self.__A[child]:\n",
    "                self.__A[i], self.__A[child] = self.__A[child], self.__A[i]\n",
    "                self.__percolateDown(child)\n",
    "                \n",
    "    def max(self):\n",
    "        return self.__A[0]\n",
    "\n",
    "    def isEmpty(self) -> bool:\n",
    "        return len(self.__A) == 0\n",
    "\n",
    "    def buildHeap(self):\n",
    "        for i in range((len(self.__A)-2)//2, -1, -1):\n",
    "            self.__percolateDown(i)\n",
    "\n",
    "    def clear(self):\n",
    "        self.__A = []\n",
    "\n",
    "    def size(self)-> int:\n",
    "        return len(self.__A)\n",
    "    \n",
    "    def heapPrint(self):\n",
    "        depth = 0\n",
    "        num_nodes = len(self.__A)\n",
    "        while 2**depth - 1 < num_nodes:\n",
    "            for i in range(2**depth - 1, min(2**(depth+1) - 1, num_nodes)):\n",
    "                print(self.__A[i], end=\" \")\n",
    "            print()\n",
    "            depth += 1\n",
    "        "
   ]
  },
  {
   "cell_type": "code",
   "execution_count": 15,
   "metadata": {},
   "outputs": [
    {
     "name": "stdout",
     "output_type": "stream",
     "text": [
      "21 \n",
      "20 19 \n",
      "11 5 7 11 \n",
      "4 9 \n",
      "20 \n",
      "11 19 \n",
      "9 5 7 11 \n",
      "4 \n"
     ]
    }
   ],
   "source": [
    "h1 = Heap([1, 11, 9, 2, 3])\n",
    "h1.buildHeap()\n",
    "h1.clear()\n",
    "h1.insert(7)\n",
    "h1.insert(5)\n",
    "h1.insert(9)\n",
    "h1.insert(4)\n",
    "h1.insert(11)\n",
    "h1.insert(19)\n",
    "h1.insert(20)\n",
    "h1.insert(21)\n",
    "h1.insert(11)\n",
    "h1.heapPrint()\n",
    "h1.deleteMax()\n",
    "h1.heapPrint()"
   ]
  },
  {
   "cell_type": "code",
   "execution_count": 16,
   "metadata": {},
   "outputs": [],
   "source": [
    "class TreeNode:\n",
    "    def __init__(self, v, lc, rc):\n",
    "        self.v = v\n",
    "        self.lc = lc\n",
    "        self.rc = rc\n",
    "\n",
    "    def is_ls_node(self):\n",
    "        return (self.lc is None) and (self.re is None)"
   ]
  },
  {
   "cell_type": "code",
   "execution_count": 17,
   "metadata": {},
   "outputs": [],
   "source": [
    "#g = TreeNode('G', None, None)   # leaf node\n",
    "f = TreeNode('F', None, None)      # intermediate node\n",
    "e = TreeNode('E', None, None)\n",
    "d = TreeNode('D', None, None)\n",
    "c = TreeNode('C', f, None)\n",
    "b = TreeNode('B', d, e)\n",
    "a = TreeNode('A', b, c)\n",
    "root = a  # root node"
   ]
  },
  {
   "cell_type": "code",
   "execution_count": 21,
   "metadata": {},
   "outputs": [],
   "source": [
    "def get_height(node):\n",
    "    if node is None:\n",
    "        return 0\n",
    "    \n",
    "    return max(get_height(node.lc), get_height(node.rc))+1\n"
   ]
  },
  {
   "cell_type": "code",
   "execution_count": 22,
   "metadata": {},
   "outputs": [
    {
     "data": {
      "text/plain": [
       "4"
      ]
     },
     "execution_count": 22,
     "metadata": {},
     "output_type": "execute_result"
    }
   ],
   "source": [
    "get_height(root)"
   ]
  },
  {
   "cell_type": "code",
   "execution_count": 26,
   "metadata": {},
   "outputs": [
    {
     "name": "stdout",
     "output_type": "stream",
     "text": [
      "ABDECFG \n",
      "DBEAFGC"
     ]
    }
   ],
   "source": [
    "# travesal\n",
    "# preorder 전체를 다 도는 방식\n",
    "def preorder(node):\n",
    "    if node is None:\n",
    "        return 0\n",
    "    print(node.v, end='')\n",
    "\n",
    "    preorder(node.lc)\n",
    "    preorder(node.rc)\n",
    "\n",
    "preorder(root)\n",
    "print(' ')\n",
    "\n",
    "# inorder 중간에 자기 자신을 출력하는 방식\n",
    "def inorder(node):\n",
    "    if node is None:\n",
    "        return 0 \n",
    "    inorder(node.lc)\n",
    "    print(node.v, end='')\n",
    "    inorder(node.rc)\n",
    "\n",
    "inorder(root)"
   ]
  },
  {
   "cell_type": "code",
   "execution_count": null,
   "metadata": {},
   "outputs": [],
   "source": []
  }
 ],
 "metadata": {
  "kernelspec": {
   "display_name": "Python 3",
   "language": "python",
   "name": "python3"
  },
  "language_info": {
   "codemirror_mode": {
    "name": "ipython",
    "version": 3
   },
   "file_extension": ".py",
   "mimetype": "text/x-python",
   "name": "python",
   "nbconvert_exporter": "python",
   "pygments_lexer": "ipython3",
   "version": "3.11.9"
  }
 },
 "nbformat": 4,
 "nbformat_minor": 2
}
