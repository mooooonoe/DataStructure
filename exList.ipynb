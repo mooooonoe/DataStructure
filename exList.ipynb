{
 "cells": [
  {
   "cell_type": "code",
   "execution_count": 3,
   "metadata": {},
   "outputs": [],
   "source": [
    "class ListNode():\n",
    "    def __init__ (self, newItem, nextNode : 'ListNode'):\n",
    "        self.item = newItem\n",
    "        self.next = nextNode\n",
    "\n",
    "class LinkedListBasic():\n",
    "    def __init__ (self):\n",
    "        self.__head = ListNode('dummy', None)\n",
    "        self.__numItems = 0\n",
    "\n",
    "    def size(self):\n",
    "        return self.__numItems\n",
    "\n",
    "    def append(self, newItem):\n",
    "        prev = self.getNode(self.__numItems-1)\n",
    "        newNode = ListNode(newItem, prev.next)\n",
    "        prev.next = newNode\n",
    "        self.__numItems += 1\n",
    "\n",
    "    def insert(self, i, newItem):\n",
    "        prev = self.getNode(i-1)\n",
    "        newNode = ListNode(newItem, prev.next)\n",
    "        prev.next = newNode\n",
    "        self.__numItems += 1\n",
    "\n",
    "    def expend(self, a):\n",
    "        for idx in range(self.size()):\n",
    "            self.append(a.get(idx))\n",
    "\n",
    "    def getNode(self, i:int) -> ListNode:\n",
    "        curr = self.__head\n",
    "        for idx in range(i+1):\n",
    "            curr = curr.next\n",
    "        return curr\n",
    "\n",
    "    def get(self, i:int):\n",
    "        return self.getNode(i).item\n",
    "    \n",
    "    def printList(self):\n",
    "        curr = self.__head.next\n",
    "        while curr:\n",
    "            print(curr.item, end='')\n",
    "            curr = curr.next\n",
    "        print()\n"
   ]
  },
  {
   "cell_type": "markdown",
   "metadata": {},
   "source": [
    "1 연결리스트 구현 시 더미 헤드 사용 장단점 <br/>\n",
    "2 원소 x의 존재 확인 체크 매서드 contains() _ index(x) 호출해서 해결 <br/>\n",
    "3 연결 리스트 i ~ j 번 원소 프린트 하는 매서드 printInterval 작성 LinkedListBasic 에 메서드 printInterval() 더하는 방식<br/>"
   ]
  },
  {
   "cell_type": "code",
   "execution_count": null,
   "metadata": {},
   "outputs": [],
   "source": [
    "# 2\n",
    "def constains(self, x) -> bool:\n",
    "    "
   ]
  },
  {
   "cell_type": "code",
   "execution_count": null,
   "metadata": {},
   "outputs": [],
   "source": [
    "# 3 \n",
    "def printInterval(self, i:int, j:int):\n",
    "    "
   ]
  }
 ],
 "metadata": {
  "kernelspec": {
   "display_name": "Python 3",
   "language": "python",
   "name": "python3"
  },
  "language_info": {
   "codemirror_mode": {
    "name": "ipython",
    "version": 3
   },
   "file_extension": ".py",
   "mimetype": "text/x-python",
   "name": "python",
   "nbconvert_exporter": "python",
   "pygments_lexer": "ipython3",
   "version": "3.11.9"
  }
 },
 "nbformat": 4,
 "nbformat_minor": 2
}
