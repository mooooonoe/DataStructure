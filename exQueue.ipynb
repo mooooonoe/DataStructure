{
 "cells": [
  {
   "cell_type": "code",
   "execution_count": 25,
   "metadata": {},
   "outputs": [],
   "source": [
    "class Queue():\n",
    "    def __init__(self):\n",
    "        self.items = []\n",
    "    \n",
    "    def isEmpty(self):\n",
    "        if len(self.items) == 0:\n",
    "            return True\n",
    "        else:\n",
    "            return False\n",
    "    \n",
    "    def enqueue(self, newItem):\n",
    "        self.items.append(newItem)\n",
    "    \n",
    "    def dequeue(self):\n",
    "        if not self.isEmpty():\n",
    "            return self.items.pop(0)\n",
    "        else:\n",
    "            return None\n",
    "    def size(self):\n",
    "        return len(self.items)"
   ]
  },
  {
   "cell_type": "code",
   "execution_count": 26,
   "metadata": {},
   "outputs": [
    {
     "name": "stdout",
     "output_type": "stream",
     "text": [
      "[0, 1, 2]\n"
     ]
    }
   ],
   "source": [
    "queue = Queue()\n",
    "\n",
    "for i in range(3):\n",
    "    queue.enqueue(i)\n",
    "\n",
    "print(queue.items)"
   ]
  },
  {
   "cell_type": "code",
   "execution_count": 27,
   "metadata": {},
   "outputs": [
    {
     "name": "stdout",
     "output_type": "stream",
     "text": [
      "3\n"
     ]
    }
   ],
   "source": [
    "print(queue.size())"
   ]
  },
  {
   "cell_type": "code",
   "execution_count": 28,
   "metadata": {},
   "outputs": [
    {
     "name": "stdout",
     "output_type": "stream",
     "text": [
      "0\n",
      "1\n",
      "2\n"
     ]
    }
   ],
   "source": [
    "print(queue.dequeue())\n",
    "print(queue.dequeue())\n",
    "print(queue.dequeue())"
   ]
  },
  {
   "cell_type": "code",
   "execution_count": 29,
   "metadata": {},
   "outputs": [
    {
     "data": {
      "text/plain": [
       "True"
      ]
     },
     "execution_count": 29,
     "metadata": {},
     "output_type": "execute_result"
    }
   ],
   "source": [
    "queue.isEmpty()"
   ]
  },
  {
   "cell_type": "markdown",
   "metadata": {},
   "source": [
    "2. 입력으로 들어온 문자열이 다음 집합의 원소인지 체크하는 코드를 큐를 이용해 작성\n",
    "\n",
    "W$W "
   ]
  },
  {
   "cell_type": "code",
   "execution_count": null,
   "metadata": {},
   "outputs": [],
   "source": [
    "class Queue():\n",
    "    def __init__(self):\n",
    "        self.items = []\n",
    "\n",
    "    def enqueue(self, item):\n",
    "        self.items.append(item)\n",
    "    \n",
    "    def dequeue(self):\n",
    "        self.items.pop(0)\n",
    "\n",
    "def chechkStr(str):\n",
    "    str = Queue()\n",
    "    for i in range(str):\n",
    "        str isEmpty\n",
    "        if str[i] == '$':\n",
    "            check?\n"
   ]
  },
  {
   "cell_type": "code",
   "execution_count": 25,
   "metadata": {},
   "outputs": [],
   "source": [
    "class Queue():\n",
    "    def __init__(self):\n",
    "        self.items = []\n",
    "\n",
    "    def enqueue(self, item):\n",
    "        self.items.append(item)\n",
    "    \n",
    "    def dequeue(self):\n",
    "        self.items.pop(0)\n",
    "\n",
    "    def insert(self, s):\n",
    "        for i in s:\n",
    "            self.enqueue(i)\n",
    "\n",
    "    def printQ(self):\n",
    "        for i in self.items:\n",
    "            print(i, end=' ')\n",
    "\n",
    "    def checker(self) -> bool:\n",
    "        tmp = Queue()\n",
    "        for i in self.items:\n",
    "            tmp.enqueue(i)\n",
    "            self.dequeue()\n",
    "            if i == '$':\n",
    "                break\n",
    "        T = False\n",
    "        for j in tmp.items:\n",
    "            if j == self.dequeue():\n",
    "                T = True\n",
    "            else:\n",
    "                T = False\n",
    "\n",
    "        return T         "
   ]
  },
  {
   "cell_type": "code",
   "execution_count": 26,
   "metadata": {},
   "outputs": [],
   "source": [
    "myQ = Queue()\n",
    "# myQ.enqueue(1)\n",
    "# myQ.enqueue(2)\n",
    "# myQ.enqueue(3)"
   ]
  },
  {
   "cell_type": "code",
   "execution_count": 27,
   "metadata": {},
   "outputs": [
    {
     "name": "stdout",
     "output_type": "stream",
     "text": [
      "a b c $ a b c "
     ]
    }
   ],
   "source": [
    "str = 'abc$abc'\n",
    "myQ.insert(str)\n",
    "myQ.printQ()"
   ]
  },
  {
   "cell_type": "code",
   "execution_count": 28,
   "metadata": {},
   "outputs": [
    {
     "ename": "IndexError",
     "evalue": "pop from empty list",
     "output_type": "error",
     "traceback": [
      "\u001b[1;31m---------------------------------------------------------------------------\u001b[0m",
      "\u001b[1;31mIndexError\u001b[0m                                Traceback (most recent call last)",
      "Cell \u001b[1;32mIn[28], line 1\u001b[0m\n\u001b[1;32m----> 1\u001b[0m \u001b[43mmyQ\u001b[49m\u001b[38;5;241;43m.\u001b[39;49m\u001b[43mchecker\u001b[49m\u001b[43m(\u001b[49m\u001b[43m)\u001b[49m\n",
      "Cell \u001b[1;32mIn[25], line 28\u001b[0m, in \u001b[0;36mQueue.checker\u001b[1;34m(self)\u001b[0m\n\u001b[0;32m     26\u001b[0m T \u001b[38;5;241m=\u001b[39m \u001b[38;5;28;01mFalse\u001b[39;00m\n\u001b[0;32m     27\u001b[0m \u001b[38;5;28;01mfor\u001b[39;00m j \u001b[38;5;129;01min\u001b[39;00m tmp\u001b[38;5;241m.\u001b[39mitems:\n\u001b[1;32m---> 28\u001b[0m     \u001b[38;5;28;01mif\u001b[39;00m j \u001b[38;5;241m==\u001b[39m \u001b[38;5;28;43mself\u001b[39;49m\u001b[38;5;241;43m.\u001b[39;49m\u001b[43mdequeue\u001b[49m\u001b[43m(\u001b[49m\u001b[43m)\u001b[49m:\n\u001b[0;32m     29\u001b[0m         T \u001b[38;5;241m=\u001b[39m \u001b[38;5;28;01mTrue\u001b[39;00m\n\u001b[0;32m     30\u001b[0m     \u001b[38;5;28;01melse\u001b[39;00m:\n",
      "Cell \u001b[1;32mIn[25], line 9\u001b[0m, in \u001b[0;36mQueue.dequeue\u001b[1;34m(self)\u001b[0m\n\u001b[0;32m      8\u001b[0m \u001b[38;5;28;01mdef\u001b[39;00m \u001b[38;5;21mdequeue\u001b[39m(\u001b[38;5;28mself\u001b[39m):\n\u001b[1;32m----> 9\u001b[0m     \u001b[38;5;28mself\u001b[39m\u001b[38;5;241m.\u001b[39mitems\u001b[38;5;241m.\u001b[39mpop(\u001b[38;5;241m0\u001b[39m)\n",
      "\u001b[1;31mIndexError\u001b[0m: pop from empty list"
     ]
    }
   ],
   "source": [
    "myQ.checker()"
   ]
  },
  {
   "cell_type": "code",
   "execution_count": 31,
   "metadata": {},
   "outputs": [
    {
     "name": "stdout",
     "output_type": "stream",
     "text": [
      "a b c $ a b c True\n"
     ]
    }
   ],
   "source": [
    "class Queue():\n",
    "    def __init__(self):\n",
    "        self.items = []\n",
    "\n",
    "    def enqueue(self, item):\n",
    "        self.items.append(item)\n",
    "    \n",
    "    def dequeue(self):\n",
    "        if not self.isEmpty():\n",
    "            return self.items.pop(0)\n",
    "        else:\n",
    "            return None\n",
    "\n",
    "    def insert(self, s):\n",
    "        for i in s:\n",
    "            self.enqueue(i)\n",
    "\n",
    "    def printQ(self):\n",
    "        for i in self.items:\n",
    "            print(i, end=' ')\n",
    "\n",
    "    def checker(self) -> bool:\n",
    "        tmp = Queue()\n",
    "        for i in self.items:\n",
    "            tmp.enqueue(i)\n",
    "            if i == '$':\n",
    "                break\n",
    "\n",
    "        while not tmp.isEmpty():\n",
    "            if tmp.dequeue() != self.dequeue():\n",
    "                return False\n",
    "\n",
    "        return True\n",
    "    \n",
    "    def isEmpty(self):\n",
    "        return len(self.items) == 0\n",
    "\n",
    "myQ = Queue()\n",
    "str = 'abc$abc'\n",
    "myQ.insert(str)\n",
    "myQ.printQ()\n",
    "print(myQ.checker())"
   ]
  },
  {
   "cell_type": "markdown",
   "metadata": {},
   "source": [
    "3. Linked Queue 타입의 객체 a를 그대로 객체 b 로 복사하는 코드 작성"
   ]
  },
  {
   "cell_type": "code",
   "execution_count": 32,
   "metadata": {},
   "outputs": [],
   "source": [
    "# list queue\n",
    "\n",
    "class Queue():\n",
    "    def __init__(self):\n",
    "        self.items = []\n",
    "\n",
    "    def enqueue(self, item):\n",
    "        self.items.append(item)\n",
    "    \n",
    "    def dequeue(self):\n",
    "        if not self.isEmpty():\n",
    "            return self.items.pop(0)\n",
    "        else:\n",
    "            return None\n",
    "\n",
    "    def insert(self, s):\n",
    "        for i in s:\n",
    "            self.enqueue(i)\n",
    "\n",
    "    def printQ(self):\n",
    "        for i in self.items:\n",
    "            print(i, end=' ')\n",
    "\n",
    "    def copyQ(self):\n",
    "        tmp = Queue()\n",
    "        for i in self.items: # dequeue 안하고 복사할 수 있지 않나?\n",
    "            tmp.enqueue(i)\n",
    "        \n",
    "        return tmp"
   ]
  },
  {
   "cell_type": "code",
   "execution_count": 38,
   "metadata": {},
   "outputs": [
    {
     "name": "stdout",
     "output_type": "stream",
     "text": [
      "queue a : 1 2 3 \n",
      "queue b : 1 2 3 "
     ]
    }
   ],
   "source": [
    "a = Queue()\n",
    "a.enqueue(1)\n",
    "a.enqueue(2)\n",
    "a.enqueue(3)\n",
    "\n",
    "b = a.copyQ()\n",
    "\n",
    "# -- output -- \n",
    "print('queue a : ', end = '')\n",
    "a. printQ()\n",
    "print('\\nqueue b : ', end = '')\n",
    "b.printQ()\n"
   ]
  },
  {
   "cell_type": "markdown",
   "metadata": {},
   "source": [
    "이걸 linked queue 로 다시 구현해야 함  <br/>\n",
    "그리고 교수님은 dequeue 해서 풀었고 tmp 를 다시 dequeue 해서 a 랑 b 에 복사함 굳이.. ?"
   ]
  },
  {
   "cell_type": "code",
   "execution_count": 13,
   "metadata": {},
   "outputs": [],
   "source": [
    "# linked queue로 구현 \n",
    "class ListNode:\n",
    "    def __init__(self, newItem, nextNode: 'ListNode'):\n",
    "        self.item = newItem\n",
    "        self.next = nextNode\n",
    "\n",
    "\n",
    "class CircularLinkedList:\n",
    "    def __init__(self):\n",
    "        self.__tail = ListNode(\"dummy\", None)\n",
    "        self.__tail.next = self.__tail\n",
    "        self.__numItems = 0\n",
    "\n",
    "    def insert(self, i: int, newItem) -> None:\n",
    "        if 0 <= i <= self.__numItems:\n",
    "            prev = self.getNode(i - 1)\n",
    "            newNode = ListNode(newItem, prev.next)\n",
    "            prev.next = newNode\n",
    "            if i == self.__numItems:\n",
    "                self.__tail = newNode\n",
    "            self.__numItems += 1\n",
    "        else:\n",
    "            print(\"index\", i, \": out of bound in insert()\")\n",
    "\n",
    "    def append(self, newItem) -> None:\n",
    "        newNode = ListNode(newItem, self.__tail.next)\n",
    "        self.__tail.next = newNode\n",
    "        self.__tail = newNode\n",
    "        self.__numItems += 1\n",
    "\n",
    "    def pop(self, *args):\n",
    "        if self.isEmpty():\n",
    "            return None\n",
    "\n",
    "        if len(args) != 0:\n",
    "            i = args[0]\n",
    "\n",
    "        if len(args) == 0 or i == -1:\n",
    "            i = self.__numItems - 1\n",
    "\n",
    "        if 0 < i <= self.__numItems - 1:\n",
    "            prev = self.getNode(i - 1)\n",
    "            retItem = prev.next.item\n",
    "            prev.next = prev.next.next\n",
    "            if i == self.__numItems - 1:\n",
    "                self.__tail = prev\n",
    "\n",
    "            self.__numItems -= 1\n",
    "            return retItem\n",
    "        else:\n",
    "            return None\n",
    "\n",
    "    def isEmpty(self) -> bool:\n",
    "        return self.__numItems == 0\n",
    "\n",
    "    def get(self, *args):\n",
    "        if self.isEmpty():\n",
    "            return None\n",
    "        if len(args) != 0:\n",
    "            i = args[0]\n",
    "        if len(args) == 0 or i == -1:\n",
    "            i = self.__numItems - 1\n",
    "        if 0 <= i <= self.__numItems - 1:\n",
    "            return self.getNode(i).item\n",
    "        else:\n",
    "            return None\n",
    "\n",
    "    def getNode(self, i: int) -> ListNode:\n",
    "        curr = self.__tail.next\n",
    "        for idx in range(i + 1):\n",
    "            curr = curr.next\n",
    "        return curr\n",
    "\n",
    "    def __iter__(self):\n",
    "        return CircularLinkedListIterator(self)\n",
    "\n",
    "    def size(self) -> int:\n",
    "        return self.__numItems\n",
    "    \n",
    "class CircularLinkedListIterator:\n",
    "    def __init__(self, alist):\n",
    "        self.__head = alist.getNode(-1)\n",
    "        self.iterPosition = self.__head.next\n",
    "\n",
    "    def __next__(self):\n",
    "        if self.iterPosition == self.__head:\n",
    "            raise StopIteration\n",
    "        else:\n",
    "            item = self.iterPosition.item\n",
    "            self.iterPosition = self.iterPosition.next\n",
    "            return item\n",
    "\n",
    "\n",
    "class LinkedQueue:\n",
    "    def __init__(self):\n",
    "        self.__queue = CircularLinkedList()\n",
    "\n",
    "    def enqueue(self, x):\n",
    "        self.__queue.append(x)\n",
    "\n",
    "    def dequeue(self):\n",
    "        return self.__queue.pop(0)\n",
    "\n",
    "    def printQ(self):\n",
    "        print(\"Queue from front:\", end=' ')\n",
    "        for i in range(self.__queue.size()):\n",
    "            print(self.__queue.get(i), end=' ')\n",
    "        print()\n",
    "\n",
    "    def isEmpty(self) -> bool:\n",
    "        return self.__queue.isEmpty()  # isEmpty 는 CircularLinkedList 의 메소드\n",
    "\n",
    "    def copyQ(self):\n",
    "        tmp = LinkedQueue()\n",
    "        for i in range(self.__queue.size()): \n",
    "            item = self.__queue.get(i)\n",
    "            tmp.enqueue(ㄴitem)\n",
    "\n",
    "        return tmp"
   ]
  },
  {
   "cell_type": "code",
   "execution_count": 14,
   "metadata": {},
   "outputs": [
    {
     "name": "stdout",
     "output_type": "stream",
     "text": [
      "queue a : Queue from front: 1 2 3 \n",
      "\n",
      "queue b : Queue from front: 1 2 3 \n"
     ]
    }
   ],
   "source": [
    "a = LinkedQueue()\n",
    "a.enqueue(1)\n",
    "a.enqueue(2)\n",
    "a.enqueue(3)\n",
    "\n",
    "b = a.copyQ()\n",
    "\n",
    "# -- output -- \n",
    "print('queue a : ', end = '')\n",
    "a. printQ()\n",
    "print('\\nqueue b : ', end = '')\n",
    "b.printQ()\n"
   ]
  },
  {
   "cell_type": "markdown",
   "metadata": {},
   "source": [
    "위는 메서드 로 구현한 방식 \n",
    "함수로 다시 구현해보기 ~ "
   ]
  },
  {
   "cell_type": "markdown",
   "metadata": {},
   "source": [
    "4. 비효율적이지만 2개의 큐를 사용하여 스택의 push()와 pop() 알고리즘을 작성하시오\n",
    "5. 역시 비효율적이지만 2개의 스택을 사용하여 큐의 enqueue()와 dequeue() 알고리즘을 작성하시오"
   ]
  },
  {
   "cell_type": "code",
   "execution_count": 39,
   "metadata": {},
   "outputs": [
    {
     "name": "stdout",
     "output_type": "stream",
     "text": [
      "Popped element: 3\n",
      "Popped element: 2\n",
      "Popped element: 4\n",
      "Popped element: 1\n",
      "Popped element: Stack is empty\n"
     ]
    }
   ],
   "source": [
    "class StackUsingQueue:\n",
    "    def __init__(self):\n",
    "        self.queue1 = []  # 원소를 저장하기 위한 큐\n",
    "        self.queue2 = []  # 보조 큐\n",
    "\n",
    "    def push(self, element):\n",
    "        # queue2를 이용하여 원소를 queue1에 push하기 전에 queue1의 모든 원소를 queue2로 이동\n",
    "        while self.queue1:\n",
    "            self.queue2.append(self.queue1.pop(0))\n",
    "        # 새로운 원소를 queue1에 push\n",
    "        self.queue1.append(element)\n",
    "        # 다시 queue2에 있는 원소들을 queue1로 이동하여 순서를 복원\n",
    "        while self.queue2:\n",
    "            self.queue1.append(self.queue2.pop(0))\n",
    "\n",
    "    def pop(self):\n",
    "        # pop 연산은 단순히 queue1에서 원소를 꺼내면 됨\n",
    "        if self.queue1:\n",
    "            return self.queue1.pop(0)\n",
    "        else:\n",
    "            return \"Stack is empty\"\n",
    "\n",
    "# 스택 테스트\n",
    "stack = StackUsingQueue()\n",
    "stack.push(1)\n",
    "stack.push(2)\n",
    "stack.push(3)\n",
    "print(\"Popped element:\", stack.pop())  # 3 출력\n",
    "print(\"Popped element:\", stack.pop())  # 2 출력\n",
    "stack.push(4)\n",
    "print(\"Popped element:\", stack.pop())  # 4 출력\n",
    "print(\"Popped element:\", stack.pop())  # 1 출력\n",
    "print(\"Popped element:\", stack.pop())  # 스택이 비어있으므로 \"Stack is empty\" 출력\n"
   ]
  },
  {
   "cell_type": "code",
   "execution_count": 40,
   "metadata": {},
   "outputs": [
    {
     "name": "stdout",
     "output_type": "stream",
     "text": [
      "Dequeued element: 1\n",
      "Dequeued element: 2\n",
      "Dequeued element: 3\n",
      "Dequeued element: 4\n",
      "Dequeued element: Queue is empty\n"
     ]
    }
   ],
   "source": [
    "class QueueUsingStack:\n",
    "    def __init__(self):\n",
    "        self.enqueue_stack = []  # enqueue 연산을 위한 스택\n",
    "        self.dequeue_stack = []  # dequeue 연산을 위한 스택\n",
    "\n",
    "    def enqueue(self, element):\n",
    "        # enqueue 스택에 요소를 push\n",
    "        self.enqueue_stack.append(element)\n",
    "\n",
    "    def dequeue(self):\n",
    "        # dequeue 스택이 비어있으면 enqueue 스택의 모든 요소를 dequeue 스택으로 옮김\n",
    "        if not self.dequeue_stack:\n",
    "            if not self.enqueue_stack:\n",
    "                return \"Queue is empty\"\n",
    "            while self.enqueue_stack:\n",
    "                self.dequeue_stack.append(self.enqueue_stack.pop())\n",
    "        # dequeue 스택에서 요소를 pop\n",
    "        return self.dequeue_stack.pop()\n",
    "\n",
    "# 큐 테스트\n",
    "queue = QueueUsingStack()\n",
    "queue.enqueue(1)\n",
    "queue.enqueue(2)\n",
    "queue.enqueue(3)\n",
    "print(\"Dequeued element:\", queue.dequeue())  # 1 출력\n",
    "queue.enqueue(4)\n",
    "print(\"Dequeued element:\", queue.dequeue())  # 2 출력\n",
    "print(\"Dequeued element:\", queue.dequeue())  # 3 출력\n",
    "print(\"Dequeued element:\", queue.dequeue())  # 4 출력\n",
    "print(\"Dequeued element:\", queue.dequeue())  # 큐가 비어있으므로 \"Queue is empty\" 출력\n"
   ]
  },
  {
   "cell_type": "code",
   "execution_count": 15,
   "metadata": {},
   "outputs": [
    {
     "name": "stdout",
     "output_type": "stream",
     "text": [
      "2\n",
      "3\n"
     ]
    }
   ],
   "source": [
    "# 04\n",
    "\n",
    "class StackUsingQueue:\n",
    "    def __init__(self):\n",
    "        self.main = [ ]\n",
    "        self.sub = [ ]\n",
    "\n",
    "    def push(self, x):\n",
    "\n",
    "        while self.main:\n",
    "            self.sub.append(self.main.pop(0)) \n",
    "        self.main.append(x) # main 2 3 1 \n",
    "\n",
    "        while self.sub: # sub 1 # sub 3 1 \n",
    "            self.main.append(self.sub.pop(0)) # sub 를 다시 비워 \n",
    "\n",
    "    def pop(self):\n",
    "        if self.main: \n",
    "            return self.main.pop(0) # main 2 3 1 pop(첫번째 원소부터 dequeue)\n",
    "        else:\n",
    "            return \"Stack is Empty\"\n",
    "\n",
    "\n",
    "stack = StackUsingQueue()\n",
    "stack.push(1)\n",
    "stack.push(3)\n",
    "stack.push(2)\n",
    "print(stack.pop())\n",
    "print(stack.pop())\n"
   ]
  },
  {
   "cell_type": "code",
   "execution_count": 16,
   "metadata": {},
   "outputs": [
    {
     "name": "stdout",
     "output_type": "stream",
     "text": [
      "1\n"
     ]
    }
   ],
   "source": [
    "# 05\n",
    "\n",
    "class QueueUsingStack():\n",
    "    def __init__(self):\n",
    "        self.inbox = []     # self. \n",
    "        self.outbox = []    # self.\n",
    "\n",
    "    def enqueue(self, x):\n",
    "        self.inbox.append(x)\n",
    "        \n",
    "    def dequeue(self):\n",
    "        #while self.inbox:\n",
    "        #    self.outbox.append(self.inbox.pop())\n",
    "        #result = self.outbox.pop()\n",
    "        \n",
    "        #while self.outbox: # inbox 에 복원\n",
    "        #    self.outbox.append(self.outbox.pop())\n",
    "\n",
    "        if not self.outbox:\n",
    "            if not self.inbox:\n",
    "                return \"Q is Empty\" # Empty 상태 체크 ***\n",
    "            while self.inbox:\n",
    "                self.outbox.append(self.inbox.pop())\n",
    "        return self.outbox.pop()\n",
    "\n",
    "myQueue = QueueUsingStack()\n",
    "myQueue.enqueue(1)\n",
    "myQueue.enqueue(2)\n",
    "myQueue.enqueue(3)\n",
    "print(myQueue.dequeue())\n"
   ]
  },
  {
   "cell_type": "markdown",
   "metadata": {},
   "source": [
    "6. 이 장에서 비운 큐에서 enqueue()는 항상 큐의 맨 뒤에, dequeue()는 항상 큐의 맨 앞에서 이루어진다. Deque 는 이의 변형으로 enqueue()와 dequeue()가 큐의 맨앞과 맨뒤에서 다 가능하다. 코드 [7-13]의 클래스 환경에서 이를 가장 효율적으로 구현한다고 하자. 큐의 사이즈가 n 일때, enqueue()와 dequeue()의 수행시간은 각각 어덯게 되겠는가?"
   ]
  },
  {
   "cell_type": "code",
   "execution_count": null,
   "metadata": {},
   "outputs": [],
   "source": [
    "# 코드 [7-13] : linked queue 로  Deque 구현\n",
    "class bidirectNode():\n",
    "    def __init__(self, newItem):\n",
    "        self.item = newItem\n",
    "        self.next = None\n",
    "        self.prev = None\n",
    "\n",
    "class Deque():\n",
    "    def __init__(self):\n",
    "        self.front = None\n",
    "        self.tail = None\n",
    "        self.__numItems = 0\n",
    "\n",
    "\n",
    "    def isEmpty(self):\n",
    "\n"
   ]
  },
  {
   "cell_type": "code",
   "execution_count": 19,
   "metadata": {},
   "outputs": [],
   "source": [
    "# linked queue로 구현 \n",
    "class ListNode:\n",
    "    def __init__(self, newItem, nextNode: 'ListNode'):\n",
    "        self.item = newItem\n",
    "        self.next = nextNode\n",
    "\n",
    "\n",
    "class CircularLinkedList:\n",
    "    def __init__(self):\n",
    "        self.__tail = ListNode(\"dummy\", None)\n",
    "        self.__tail.next = self.__tail\n",
    "        self.__numItems = 0\n",
    "\n",
    "    def insert(self, i: int, newItem) -> None:\n",
    "        if 0 <= i <= self.__numItems:\n",
    "            prev = self.getNode(i - 1)\n",
    "            newNode = ListNode(newItem, prev.next)\n",
    "            prev.next = newNode\n",
    "            if i == self.__numItems:\n",
    "                self.__tail = newNode\n",
    "            self.__numItems += 1\n",
    "        else:\n",
    "            print(\"index\", i, \": out of bound in insert()\")\n",
    "\n",
    "    def append(self, newItem) -> None:\n",
    "        newNode = ListNode(newItem, self.__tail.next)\n",
    "        self.__tail.next = newNode\n",
    "        self.__tail = newNode\n",
    "        self.__numItems += 1\n",
    "\n",
    "    def pop(self, *args):\n",
    "        if self.isEmpty():\n",
    "            return None\n",
    "\n",
    "        if len(args) != 0:\n",
    "            i = args[0]\n",
    "\n",
    "        if len(args) == 0 or i == -1:\n",
    "            i = self.__numItems - 1\n",
    "\n",
    "        if 0 < i <= self.__numItems - 1:\n",
    "            prev = self.getNode(i - 1)\n",
    "            retItem = prev.next.item\n",
    "            prev.next = prev.next.next\n",
    "            if i == self.__numItems - 1:\n",
    "                self.__tail = prev\n",
    "\n",
    "            self.__numItems -= 1\n",
    "            return retItem\n",
    "        else:\n",
    "            return None\n",
    "\n",
    "    def isEmpty(self) -> bool:\n",
    "        return self.__numItems == 0\n",
    "\n",
    "    def get(self, *args):\n",
    "        if self.isEmpty():\n",
    "            return None\n",
    "        if len(args) != 0:\n",
    "            i = args[0]\n",
    "        if len(args) == 0 or i == -1:\n",
    "            i = self.__numItems - 1\n",
    "        if 0 <= i <= self.__numItems - 1:\n",
    "            return self.getNode(i).item\n",
    "        else:\n",
    "            return None\n",
    "\n",
    "    def getNode(self, i: int) -> ListNode:\n",
    "        curr = self.__tail.next\n",
    "        for idx in range(i + 1):\n",
    "            curr = curr.next\n",
    "        return curr\n",
    "\n",
    "    def __iter__(self):\n",
    "        return CircularLinkedListIterator(self)\n",
    "\n",
    "    def size(self) -> int:\n",
    "        return self.__numItems\n",
    "    \n",
    "class CircularLinkedListIterator:\n",
    "    def __init__(self, alist):\n",
    "        self.__head = alist.getNode(-1)\n",
    "        self.iterPosition = self.__head.next\n",
    "\n",
    "    def __next__(self):\n",
    "        if self.iterPosition == self.__head:\n",
    "            raise StopIteration\n",
    "        else:\n",
    "            item = self.iterPosition.item\n",
    "            self.iterPosition = self.iterPosition.next\n",
    "            return item\n",
    "\n",
    "\n",
    "class LinkedQueue:\n",
    "    def __init__(self):\n",
    "        self.__queue = CircularLinkedList()\n",
    "\n",
    "    def enqueue(self, x):\n",
    "        self.__queue.append(x)\n",
    "\n",
    "    def dequeue(self):\n",
    "        return self.__queue.pop(0)\n",
    "\n",
    "    def printQ(self):\n",
    "        print(\"Queue from front:\", end=' ')\n",
    "        for i in range(self.__queue.size()):\n",
    "            print(self.__queue.get(i), end=' ')\n",
    "        print()\n",
    "\n",
    "    def isEmpty(self) -> bool:\n",
    "        return self.__queue.isEmpty()\n",
    "\n",
    "\n",
    "class Deque:\n",
    "    def __init__(self):\n",
    "        self.__deque = LinkedQueue()\n",
    "        self.__numItems = 0\n",
    "\n",
    "    def addtop(self, x):\n",
    "        self.__deque.enqueue(x)\n",
    "        self.__numItems += 1\n",
    "    \n",
    "    def deltail(self):\n",
    "        self.__deque.dequeue()\n",
    "        self.__numItems -= 1\n",
    "\n",
    "    def size(self):\n",
    "        return self.__numItems\n",
    "    \n",
    "    def printDeque(self):\n",
    "        print(\"Deq form front: \", end = ' ')\n",
    "        for i in range(self.size()):\n",
    "            print(self.__deque.get(i), end=' ')\n",
    "        print()\n",
    "\n",
    "    def isEmpty(self) -> bool:\n",
    "        return self.__deque.isEmpty()"
   ]
  },
  {
   "cell_type": "code",
   "execution_count": 22,
   "metadata": {},
   "outputs": [
    {
     "ename": "AttributeError",
     "evalue": "'Deque' object has no attribute 'addtop'",
     "output_type": "error",
     "traceback": [
      "\u001b[1;31m---------------------------------------------------------------------------\u001b[0m",
      "\u001b[1;31mAttributeError\u001b[0m                            Traceback (most recent call last)",
      "Cell \u001b[1;32mIn[22], line 2\u001b[0m\n\u001b[0;32m      1\u001b[0m mydeq \u001b[38;5;241m=\u001b[39m Deque()\n\u001b[1;32m----> 2\u001b[0m \u001b[43mmydeq\u001b[49m\u001b[38;5;241;43m.\u001b[39;49m\u001b[43maddtop\u001b[49m(\u001b[38;5;241m1\u001b[39m)\n\u001b[0;32m      3\u001b[0m mydeq\u001b[38;5;241m.\u001b[39maddtop(\u001b[38;5;241m2\u001b[39m)\n\u001b[0;32m      4\u001b[0m mydeq\u001b[38;5;241m.\u001b[39maddtop(\u001b[38;5;241m3\u001b[39m)\n",
      "\u001b[1;31mAttributeError\u001b[0m: 'Deque' object has no attribute 'addtop'"
     ]
    }
   ],
   "source": [
    "mydeq = Deque()\n",
    "mydeq.addtop(1)\n",
    "mydeq.addtop(2)\n",
    "mydeq.addtop(3)\n",
    "\n",
    "mydeq.printDeque()"
   ]
  },
  {
   "cell_type": "code",
   "execution_count": 21,
   "metadata": {},
   "outputs": [
    {
     "name": "stdout",
     "output_type": "stream",
     "text": [
      "Is deque empty? True\n",
      "Deque from front: 3 1 2 4 \n",
      "Deque size: 4\n",
      "Removing front: None\n",
      "Removing rear: 4\n",
      "Deque from front: 3 1 2 \n",
      "Is deque empty? False\n"
     ]
    }
   ],
   "source": [
    "class ListNode:\n",
    "    def __init__(self, newItem, nextNode: 'ListNode'):\n",
    "        self.item = newItem\n",
    "        self.next = nextNode\n",
    "\n",
    "\n",
    "class CircularLinkedList:\n",
    "    def __init__(self):\n",
    "        self.__tail = ListNode(\"dummy\", None)\n",
    "        self.__tail.next = self.__tail\n",
    "        self.__numItems = 0\n",
    "\n",
    "    def insert(self, i: int, newItem) -> None:\n",
    "        if 0 <= i <= self.__numItems:\n",
    "            prev = self.getNode(i - 1)\n",
    "            newNode = ListNode(newItem, prev.next)\n",
    "            prev.next = newNode\n",
    "            if i == self.__numItems:\n",
    "                self.__tail = newNode\n",
    "            self.__numItems += 1\n",
    "        else:\n",
    "            print(\"index\", i, \": out of bound in insert()\")\n",
    "\n",
    "    def append(self, newItem) -> None:\n",
    "        newNode = ListNode(newItem, self.__tail.next)\n",
    "        self.__tail.next = newNode\n",
    "        self.__tail = newNode\n",
    "        self.__numItems += 1\n",
    "\n",
    "    def pop(self, *args):\n",
    "        if self.isEmpty():\n",
    "            return None\n",
    "\n",
    "        if len(args) != 0:\n",
    "            i = args[0]\n",
    "\n",
    "        if len(args) == 0 or i == -1:\n",
    "            i = self.__numItems - 1\n",
    "\n",
    "        if 0 < i <= self.__numItems - 1:\n",
    "            prev = self.getNode(i - 1)\n",
    "            retItem = prev.next.item\n",
    "            prev.next = prev.next.next\n",
    "            if i == self.__numItems - 1:\n",
    "                self.__tail = prev\n",
    "\n",
    "            self.__numItems -= 1\n",
    "            return retItem\n",
    "        else:\n",
    "            return None\n",
    "\n",
    "    def isEmpty(self) -> bool:\n",
    "        return self.__numItems == 0\n",
    "\n",
    "    def get(self, *args):\n",
    "        if self.isEmpty():\n",
    "            return None\n",
    "        if len(args) != 0:\n",
    "            i = args[0]\n",
    "        if len(args) == 0 or i == -1:\n",
    "            i = self.__numItems - 1\n",
    "        if 0 <= i <= self.__numItems - 1:\n",
    "            return self.getNode(i).item\n",
    "        else:\n",
    "            return None\n",
    "\n",
    "    def getNode(self, i: int) -> ListNode:\n",
    "        curr = self.__tail.next\n",
    "        for idx in range(i + 1):\n",
    "            curr = curr.next\n",
    "        return curr\n",
    "\n",
    "    def __iter__(self):\n",
    "        return CircularLinkedListIterator(self)\n",
    "\n",
    "    def size(self) -> int:\n",
    "        return self.__numItems\n",
    "    \n",
    "class CircularLinkedListIterator:\n",
    "    def __init__(self, alist):\n",
    "        self.__head = alist.getNode(-1)\n",
    "        self.iterPosition = self.__head.next\n",
    "\n",
    "    def __next__(self):\n",
    "        if self.iterPosition == self.__head:\n",
    "            raise StopIteration\n",
    "        else:\n",
    "            item = self.iterPosition.item\n",
    "            self.iterPosition = self.iterPosition.next\n",
    "            return item\n",
    "\n",
    "                                                                #### linked Queue 없이 바로 circular linked list 가지고 Deque 구현 ! \n",
    "class Deque:\n",
    "    def __init__(self):\n",
    "        self.__deque = CircularLinkedList()\n",
    "\n",
    "    def add_front(self, item):\n",
    "        self.__deque.insert(0, item)\n",
    "\n",
    "    def add_rear(self, item):\n",
    "        self.__deque.append(item)\n",
    "\n",
    "    def remove_front(self):\n",
    "        return self.__deque.pop(0)\n",
    "\n",
    "    def remove_rear(self):\n",
    "        return self.__deque.pop()\n",
    "\n",
    "    def size(self):\n",
    "        return self.__deque.size()\n",
    "\n",
    "    def is_empty(self):\n",
    "        return self.__deque.isEmpty()\n",
    "\n",
    "    def print_deque(self):\n",
    "        print(\"Deque from front: \", end='')\n",
    "        for i in range(self.size()):\n",
    "            print(self.__deque.get(i), end=' ')         # 여기 get 은 circular linked list 의 매서드에 있기 때문에 __deque.get 으로 통해서 사용 ! \n",
    "        print()\n",
    "\n",
    "\n",
    "# 데모 코드\n",
    "deque = Deque()\n",
    "\n",
    "print(\"Is deque empty?\", deque.is_empty())  # 출력: Is deque empty? True\n",
    "\n",
    "deque.add_front(1)\n",
    "deque.add_rear(2)\n",
    "deque.add_front(3)\n",
    "deque.add_rear(4)\n",
    "\n",
    "deque.print_deque()  # 출력: Deque from front: 3 1 2 4\n",
    "\n",
    "print(\"Deque size:\", deque.size())  # 출력: Deque size: 4\n",
    "\n",
    "print(\"Removing front:\", deque.remove_front())  # 출력: Removing front: 3\n",
    "print(\"Removing rear:\", deque.remove_rear())  # 출력: Removing rear: 4\n",
    "\n",
    "deque.print_deque()  # 출력: Deque from front: 1 2\n",
    "\n",
    "print(\"Is deque empty?\", deque.is_empty())  # 출력: Is deque empty? False\n"
   ]
  },
  {
   "cell_type": "markdown",
   "metadata": {},
   "source": [
    "7. 06번 문제에서 deque를 원형 연결 리스트가 아닌 [코드 5-15]의 LinkedListBasic 객체\n",
    "를 사용한다면 enqueue()와 dequeue()의 수행 시간은 각각 어떻게 되겠는가?"
   ]
  },
  {
   "cell_type": "markdown",
   "metadata": {},
   "source": [
    "8. 다음은 클래스 ListQueue의 파이썬 코드다. 이를 06번 문제의 자료구조 Deque를 구현하\n",
    "는 클래스 Deque로 바꾸어 보시오. 필요한 메서드를 추가하시오."
   ]
  },
  {
   "cell_type": "code",
   "execution_count": null,
   "metadata": {},
   "outputs": [],
   "source": [
    "# listQueue 로 Deque 구현"
   ]
  }
 ],
 "metadata": {
  "kernelspec": {
   "display_name": "base",
   "language": "python",
   "name": "python3"
  },
  "language_info": {
   "codemirror_mode": {
    "name": "ipython",
    "version": 3
   },
   "file_extension": ".py",
   "mimetype": "text/x-python",
   "name": "python",
   "nbconvert_exporter": "python",
   "pygments_lexer": "ipython3",
   "version": "3.11.9"
  }
 },
 "nbformat": 4,
 "nbformat_minor": 2
}
