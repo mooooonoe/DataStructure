{
 "cells": [
  {
   "cell_type": "code",
   "execution_count": 25,
   "metadata": {},
   "outputs": [],
   "source": [
    "class Queue():\n",
    "    def __init__(self):\n",
    "        self.items = []\n",
    "    \n",
    "    def isEmpty(self):\n",
    "        if len(self.items) == 0:\n",
    "            return True\n",
    "        else:\n",
    "            return False\n",
    "    \n",
    "    def enqueue(self, newItem):\n",
    "        self.items.append(newItem)\n",
    "    \n",
    "    def dequeue(self):\n",
    "        if not self.isEmpty():\n",
    "            return self.items.pop(0)\n",
    "        else:\n",
    "            return None\n",
    "    def size(self):\n",
    "        return len(self.items)"
   ]
  },
  {
   "cell_type": "code",
   "execution_count": 26,
   "metadata": {},
   "outputs": [
    {
     "name": "stdout",
     "output_type": "stream",
     "text": [
      "[0, 1, 2]\n"
     ]
    }
   ],
   "source": [
    "queue = Queue()\n",
    "\n",
    "for i in range(3):\n",
    "    queue.enqueue(i)\n",
    "\n",
    "print(queue.items)"
   ]
  },
  {
   "cell_type": "code",
   "execution_count": 27,
   "metadata": {},
   "outputs": [
    {
     "name": "stdout",
     "output_type": "stream",
     "text": [
      "3\n"
     ]
    }
   ],
   "source": [
    "print(queue.size())"
   ]
  },
  {
   "cell_type": "code",
   "execution_count": 28,
   "metadata": {},
   "outputs": [
    {
     "name": "stdout",
     "output_type": "stream",
     "text": [
      "0\n",
      "1\n",
      "2\n"
     ]
    }
   ],
   "source": [
    "print(queue.dequeue())\n",
    "print(queue.dequeue())\n",
    "print(queue.dequeue())"
   ]
  },
  {
   "cell_type": "code",
   "execution_count": 29,
   "metadata": {},
   "outputs": [
    {
     "data": {
      "text/plain": [
       "True"
      ]
     },
     "execution_count": 29,
     "metadata": {},
     "output_type": "execute_result"
    }
   ],
   "source": [
    "queue.isEmpty()"
   ]
  },
  {
   "cell_type": "markdown",
   "metadata": {},
   "source": [
    "2. 입력으로 들어온 문자열이 다음 집합의 원소인지 체크하는 코드를 큐를 이용해 작성\n",
    "\n",
    "W$W "
   ]
  },
  {
   "cell_type": "code",
   "execution_count": null,
   "metadata": {},
   "outputs": [],
   "source": [
    "class Queue():\n",
    "    def __init__(self):\n",
    "        self.items = []\n",
    "\n",
    "    def enqueue(self, item):\n",
    "        self.items.append(item)\n",
    "    \n",
    "    def dequeue(self):\n",
    "        self.items.pop(0)\n",
    "\n",
    "def chechkStr(str):\n",
    "    str = Queue()\n",
    "    for i in range(str):\n",
    "        str isEmpty\n",
    "        if str[i] == '$':\n",
    "            check?\n"
   ]
  },
  {
   "cell_type": "code",
   "execution_count": 25,
   "metadata": {},
   "outputs": [],
   "source": [
    "class Queue():\n",
    "    def __init__(self):\n",
    "        self.items = []\n",
    "\n",
    "    def enqueue(self, item):\n",
    "        self.items.append(item)\n",
    "    \n",
    "    def dequeue(self):\n",
    "        self.items.pop(0)\n",
    "\n",
    "    def insert(self, s):\n",
    "        for i in s:\n",
    "            self.enqueue(i)\n",
    "\n",
    "    def printQ(self):\n",
    "        for i in self.items:\n",
    "            print(i, end=' ')\n",
    "\n",
    "    def checker(self) -> bool:\n",
    "        tmp = Queue()\n",
    "        for i in self.items:\n",
    "            tmp.enqueue(i)\n",
    "            self.dequeue()\n",
    "            if i == '$':\n",
    "                break\n",
    "        T = False\n",
    "        for j in tmp.items:\n",
    "            if j == self.dequeue():\n",
    "                T = True\n",
    "            else:\n",
    "                T = False\n",
    "\n",
    "        return T         "
   ]
  },
  {
   "cell_type": "code",
   "execution_count": 26,
   "metadata": {},
   "outputs": [],
   "source": [
    "myQ = Queue()\n",
    "# myQ.enqueue(1)\n",
    "# myQ.enqueue(2)\n",
    "# myQ.enqueue(3)"
   ]
  },
  {
   "cell_type": "code",
   "execution_count": 27,
   "metadata": {},
   "outputs": [
    {
     "name": "stdout",
     "output_type": "stream",
     "text": [
      "a b c $ a b c "
     ]
    }
   ],
   "source": [
    "str = 'abc$abc'\n",
    "myQ.insert(str)\n",
    "myQ.printQ()"
   ]
  },
  {
   "cell_type": "code",
   "execution_count": 28,
   "metadata": {},
   "outputs": [
    {
     "ename": "IndexError",
     "evalue": "pop from empty list",
     "output_type": "error",
     "traceback": [
      "\u001b[1;31m---------------------------------------------------------------------------\u001b[0m",
      "\u001b[1;31mIndexError\u001b[0m                                Traceback (most recent call last)",
      "Cell \u001b[1;32mIn[28], line 1\u001b[0m\n\u001b[1;32m----> 1\u001b[0m \u001b[43mmyQ\u001b[49m\u001b[38;5;241;43m.\u001b[39;49m\u001b[43mchecker\u001b[49m\u001b[43m(\u001b[49m\u001b[43m)\u001b[49m\n",
      "Cell \u001b[1;32mIn[25], line 28\u001b[0m, in \u001b[0;36mQueue.checker\u001b[1;34m(self)\u001b[0m\n\u001b[0;32m     26\u001b[0m T \u001b[38;5;241m=\u001b[39m \u001b[38;5;28;01mFalse\u001b[39;00m\n\u001b[0;32m     27\u001b[0m \u001b[38;5;28;01mfor\u001b[39;00m j \u001b[38;5;129;01min\u001b[39;00m tmp\u001b[38;5;241m.\u001b[39mitems:\n\u001b[1;32m---> 28\u001b[0m     \u001b[38;5;28;01mif\u001b[39;00m j \u001b[38;5;241m==\u001b[39m \u001b[38;5;28;43mself\u001b[39;49m\u001b[38;5;241;43m.\u001b[39;49m\u001b[43mdequeue\u001b[49m\u001b[43m(\u001b[49m\u001b[43m)\u001b[49m:\n\u001b[0;32m     29\u001b[0m         T \u001b[38;5;241m=\u001b[39m \u001b[38;5;28;01mTrue\u001b[39;00m\n\u001b[0;32m     30\u001b[0m     \u001b[38;5;28;01melse\u001b[39;00m:\n",
      "Cell \u001b[1;32mIn[25], line 9\u001b[0m, in \u001b[0;36mQueue.dequeue\u001b[1;34m(self)\u001b[0m\n\u001b[0;32m      8\u001b[0m \u001b[38;5;28;01mdef\u001b[39;00m \u001b[38;5;21mdequeue\u001b[39m(\u001b[38;5;28mself\u001b[39m):\n\u001b[1;32m----> 9\u001b[0m     \u001b[38;5;28mself\u001b[39m\u001b[38;5;241m.\u001b[39mitems\u001b[38;5;241m.\u001b[39mpop(\u001b[38;5;241m0\u001b[39m)\n",
      "\u001b[1;31mIndexError\u001b[0m: pop from empty list"
     ]
    }
   ],
   "source": [
    "myQ.checker()"
   ]
  },
  {
   "cell_type": "code",
   "execution_count": 31,
   "metadata": {},
   "outputs": [
    {
     "name": "stdout",
     "output_type": "stream",
     "text": [
      "a b c $ a b c True\n"
     ]
    }
   ],
   "source": [
    "class Queue():\n",
    "    def __init__(self):\n",
    "        self.items = []\n",
    "\n",
    "    def enqueue(self, item):\n",
    "        self.items.append(item)\n",
    "    \n",
    "    def dequeue(self):\n",
    "        if not self.isEmpty():\n",
    "            return self.items.pop(0)\n",
    "        else:\n",
    "            return None\n",
    "\n",
    "    def insert(self, s):\n",
    "        for i in s:\n",
    "            self.enqueue(i)\n",
    "\n",
    "    def printQ(self):\n",
    "        for i in self.items:\n",
    "            print(i, end=' ')\n",
    "\n",
    "    def checker(self) -> bool:\n",
    "        tmp = Queue()\n",
    "        for i in self.items:\n",
    "            tmp.enqueue(i)\n",
    "            if i == '$':\n",
    "                break\n",
    "\n",
    "        while not tmp.isEmpty():\n",
    "            if tmp.dequeue() != self.dequeue():\n",
    "                return False\n",
    "\n",
    "        return True\n",
    "    \n",
    "    def isEmpty(self):\n",
    "        return len(self.items) == 0\n",
    "\n",
    "myQ = Queue()\n",
    "str = 'abc$abc'\n",
    "myQ.insert(str)\n",
    "myQ.printQ()\n",
    "print(myQ.checker())"
   ]
  },
  {
   "cell_type": "markdown",
   "metadata": {},
   "source": [
    "3. Linked Queue 타입의 객체 a를 그대로 객체 b 로 복사하는 코드 작성"
   ]
  },
  {
   "cell_type": "code",
   "execution_count": 32,
   "metadata": {},
   "outputs": [],
   "source": [
    "# list queue\n",
    "\n",
    "class Queue():\n",
    "    def __init__(self):\n",
    "        self.items = []\n",
    "\n",
    "    def enqueue(self, item):\n",
    "        self.items.append(item)\n",
    "    \n",
    "    def dequeue(self):\n",
    "        if not self.isEmpty():\n",
    "            return self.items.pop(0)\n",
    "        else:\n",
    "            return None\n",
    "\n",
    "    def insert(self, s):\n",
    "        for i in s:\n",
    "            self.enqueue(i)\n",
    "\n",
    "    def printQ(self):\n",
    "        for i in self.items:\n",
    "            print(i, end=' ')\n",
    "\n",
    "    def copyQ(self):\n",
    "        tmp = Queue()\n",
    "        for i in self.items: # dequeue 안하고 복사할 수 있지 않나?\n",
    "            tmp.enqueue(i)\n",
    "        \n",
    "        return tmp"
   ]
  },
  {
   "cell_type": "code",
   "execution_count": 38,
   "metadata": {},
   "outputs": [
    {
     "name": "stdout",
     "output_type": "stream",
     "text": [
      "queue a : 1 2 3 \n",
      "queue b : 1 2 3 "
     ]
    }
   ],
   "source": [
    "a = Queue()\n",
    "a.enqueue(1)\n",
    "a.enqueue(2)\n",
    "a.enqueue(3)\n",
    "\n",
    "b = a.copyQ()\n",
    "\n",
    "# -- output -- \n",
    "print('queue a : ', end = '')\n",
    "a. printQ()\n",
    "print('\\nqueue b : ', end = '')\n",
    "b.printQ()\n"
   ]
  },
  {
   "cell_type": "markdown",
   "metadata": {},
   "source": [
    "이걸 linked queue 로 다시 구현해야 함  <br/>\n",
    "그리고 교수님은 dequeue 해서 풀었고 tmp 를 다시 dequeue 해서 a 랑 b 에 복사함 굳이.. ?"
   ]
  },
  {
   "cell_type": "code",
   "execution_count": null,
   "metadata": {},
   "outputs": [],
   "source": [
    "# linked queue\n",
    "\n"
   ]
  },
  {
   "cell_type": "code",
   "execution_count": null,
   "metadata": {},
   "outputs": [],
   "source": []
  }
 ],
 "metadata": {
  "kernelspec": {
   "display_name": "base",
   "language": "python",
   "name": "python3"
  },
  "language_info": {
   "codemirror_mode": {
    "name": "ipython",
    "version": 3
   },
   "file_extension": ".py",
   "mimetype": "text/x-python",
   "name": "python",
   "nbconvert_exporter": "python",
   "pygments_lexer": "ipython3",
   "version": "3.11.9"
  }
 },
 "nbformat": 4,
 "nbformat_minor": 2
}
