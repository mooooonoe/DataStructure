{
 "cells": [
  {
   "cell_type": "markdown",
   "metadata": {},
   "source": [
    "기본 정렬 _ 선택Selection 버블Bubble 삽입Insertion <br/>\n",
    "고급 정렬 _ 병합Merge<br/><br/>\n",
    "기본 정렬은 대부분 수행시간이 O(n^2)이지만 고급은 다 조금더 빠름 "
   ]
  },
  {
   "cell_type": "markdown",
   "metadata": {},
   "source": [
    "삽입 정렬 <br/>\n",
    "최악의 경우 : 45page _ 제일 큰 73을 8부터 계속 비교해야함 <br/>\n",
    "최상의 경우 : 47page _ 3을 8과 비교했을때 바로 삽입하면 됨 "
   ]
  },
  {
   "cell_type": "markdown",
   "metadata": {},
   "source": [
    "병합 정렬의 수행시간은 애매해서 교과서를 보시면 될꺼같습닏 ~ "
   ]
  },
  {
   "cell_type": "code",
   "execution_count": null,
   "metadata": {},
   "outputs": [],
   "source": []
  },
  {
   "cell_type": "code",
   "execution_count": null,
   "metadata": {},
   "outputs": [],
   "source": []
  },
  {
   "cell_type": "code",
   "execution_count": null,
   "metadata": {},
   "outputs": [],
   "source": []
  }
 ],
 "metadata": {
  "language_info": {
   "name": "python"
  }
 },
 "nbformat": 4,
 "nbformat_minor": 2
}
