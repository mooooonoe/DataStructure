{
 "cells": [
  {
   "cell_type": "markdown",
   "metadata": {},
   "source": [
    "기본 정렬 _ 선택Selection 버블Bubble 삽입Insertion <br/>\n",
    "고급 정렬 _ 병합Merge<br/><br/>\n",
    "기본 정렬은 대부분 수행시간이 O(n^2)이지만 고급은 다 조금더 빠름 "
   ]
  },
  {
   "cell_type": "markdown",
   "metadata": {},
   "source": [
    "삽입 정렬 <br/>\n",
    "최악의 경우 : 45page _ 제일 큰 73을 8부터 계속 비교해야함 <br/>\n",
    "최상의 경우 : 47page _ 3을 8과 비교했을때 바로 삽입하면 됨 "
   ]
  },
  {
   "cell_type": "markdown",
   "metadata": {},
   "source": [
    "병합 정렬의 수행시간은 애매해서 교과서를 보시면 될꺼같습닏 ~ "
   ]
  },
  {
   "cell_type": "markdown",
   "metadata": {},
   "source": [
    "### 기본 정렬 <br/>\n",
    "선택 정렬 / 버블 정렬 / 삽입 정렬 / 병합 정렬 / 퀵 정렬 "
   ]
  },
  {
   "cell_type": "code",
   "execution_count": 3,
   "metadata": {},
   "outputs": [
    {
     "name": "stdout",
     "output_type": "stream",
     "text": [
      "selectionSort test\n",
      "A[]:\t    [35, 24, 16, 21, 4, 72, 23, 9, 23, 14, 58, 12, 0]\n",
      "Sorted A[]: [0, 4, 9, 12, 14, 16, 21, 23, 23, 24, 35, 58, 72]\n"
     ]
    }
   ],
   "source": [
    "def selectionSort(A):\n",
    "    for last in range(len(A)-1, 0, -1):\n",
    "        k = theLargest(A, last)\n",
    "        A[k], A[last] = A[last], A[k]\n",
    "\n",
    "def theLargest(A, last:int)->int:\n",
    "    largest = 0\n",
    "    for i in range(last+1):\n",
    "        if A[i] > A[largest]:\n",
    "            largest = i\n",
    "    return largest\n",
    "\n",
    "def main():\n",
    "    print(\"selectionSort test\")\n",
    "    A = [35, 24, 16, 21, 4, 72, 23, 9, 23, 14, 58, 12, 0]\n",
    "    print(\"A[]:\t   \", A)\n",
    "    selectionSort(A)\n",
    "    print(\"Sorted A[]:\", A)\n",
    "\n",
    "if __name__ == \"__main__\":\n",
    "    main()\n"
   ]
  },
  {
   "cell_type": "code",
   "execution_count": 6,
   "metadata": {},
   "outputs": [
    {
     "name": "stdout",
     "output_type": "stream",
     "text": [
      "A[]:\t    [35, 24, 16, 21, 4, 72, 23, 9, 23, 14, 58, 12, 0]\n",
      "Sorted A[]: [0, 4, 9, 12, 14, 16, 21, 23, 23, 24, 35, 58, 72]\n"
     ]
    }
   ],
   "source": [
    "def bubbleSort(A):\n",
    "    for numElements in range(len(A), 0, -1):\n",
    "        for i in range(numElements-1):\n",
    "            if A[i]>A[i+1]:\n",
    "                A[i], A[i+1] = A[i+1], A[i]\n",
    "\n",
    "\n",
    "def main():\n",
    "    A = [35, 24, 16, 21, 4, 72, 23, 9, 23, 14, 58, 12, 0]\n",
    "    print(\"A[]:\t   \", A)\n",
    "    bubbleSort(A)\n",
    "    print(\"Sorted A[]:\", A)\n",
    "\n",
    "if __name__ == \"__main__\":\n",
    "    main()"
   ]
  },
  {
   "cell_type": "code",
   "execution_count": 9,
   "metadata": {},
   "outputs": [
    {
     "name": "stdout",
     "output_type": "stream",
     "text": [
      "A[]:\t    [35, 24, 16, 21, 4, 72, 23, 9, 23, 14, 58, 12, 0]\n",
      "Sorted A[]: [0, 4, 9, 12, 14, 16, 21, 23, 23, 24, 35, 58, 72]\n"
     ]
    }
   ],
   "source": [
    "def insertionSort(A):\n",
    "    for i in range(1, len(A)):\n",
    "        loc = i-1\n",
    "        newItem = A[i]\n",
    "        while loc >= 0 and newItem <A[loc]:\n",
    "            A[loc+1] = A[loc]\n",
    "            loc -= 1\n",
    "        A[loc+1] = newItem\n",
    "\n",
    "def main():\n",
    "    A = [35, 24, 16, 21, 4, 72, 23, 9, 23, 14, 58, 12, 0]\n",
    "    print(\"A[]:\t   \", A)\n",
    "    insertionSort(A)\n",
    "    print(\"Sorted A[]:\", A)\n",
    "\n",
    "if __name__ == \"__main__\":\n",
    "    main()\n"
   ]
  },
  {
   "cell_type": "code",
   "execution_count": null,
   "metadata": {},
   "outputs": [],
   "source": [
    "def mergeSort(A, p:int, r:int):\n",
    "\tif p < r:\n",
    "\t\tq = (p+r) // 2\n",
    "\t\tmergeSort(A, p, q)\n",
    "\t\tmergeSort(A, q+1, r)\n",
    "\t\tmerge(A, p, q, r)\n",
    "\n",
    "def merge(A, p:int, q:int, r:int):\n",
    "\ti = p; j = q+1; t = 0\n",
    "\ttmp = [0 for i in range(len(A))]\n",
    "\twhile i <= q and j <= r:\n",
    "\t\tif A[i] <= A[j]:\n",
    "\t\t\ttmp[t] = A[i]; t += 1; i += 1\n",
    "\t\telse:\n",
    "\t\t\ttmp[t] = A[j]; t += 1; j += 1\n",
    "\twhile i <= q:\n",
    "\t\ttmp[t] = A[i]; t += 1; i += 1\n",
    "\twhile j <= r:\n",
    "\t\ttmp[t] = A[j]; t += 1; j += 1\n",
    "\ti = p; t = 0\n",
    "\twhile i <= r:\n",
    "\t\tA[i] = tmp[t]; t += 1; i += 1\n",
    "\t\t\n",
    "def main():\n",
    "    print(\"Mergesort test\")\n",
    "    A = [3, 8, 2, 24, 8, 1, 12,1, 0, 55, 0, 256, 333, 23, 65]\n",
    "    print(\"A[]:       \", A)\n",
    "    mergeSort(A, 0, len(A)-1)\n",
    "    print(\"Sorted A[]:\", A)\n",
    "\n",
    "if __name__ == \"__main__\":\n",
    "    main()"
   ]
  },
  {
   "cell_type": "code",
   "execution_count": 12,
   "metadata": {},
   "outputs": [
    {
     "name": "stdout",
     "output_type": "stream",
     "text": [
      "Quicksort test\n",
      "A[]:        [3, 8, 2, 4, 8, 77, 1, 2, 0, 5, 56, 28]\n",
      "Sorted A[]: [0, 1, 2, 2, 3, 4, 5, 8, 8, 28, 56, 77]\n"
     ]
    }
   ],
   "source": [
    "def quickSort(A, p:int, r:int):\n",
    "    if p<r:\n",
    "        q = partition(A, p, r)\n",
    "        quickSort(A, p, q-1)\n",
    "        quickSort(A, q+1, r)\n",
    "\n",
    "def partition(A, p:int, r:int) -> int:\n",
    "    x = A[r]\n",
    "    i = p-1\n",
    "    for j in range(p,r):\n",
    "        if A[j] < x:\n",
    "            i+=1\n",
    "            A[i], A[j] = A[j], A[i]\n",
    "    A[i+1], A[r] = A[r], A[i+1]\n",
    "    return i+1\n",
    "\n",
    "def main():\n",
    "    print(\"Quicksort test\")\n",
    "    A = [3, 8, 2, 4, 8, 77, 1, 2, 0, 5, 56, 28]\n",
    "    print(\"A[]:       \", A)\n",
    "    quickSort(A, 0, len(A)-1)\n",
    "    print(\"Sorted A[]:\", A)\n",
    "    \n",
    "if __name__ == \"__main__\":\n",
    "    main()\n"
   ]
  },
  {
   "cell_type": "markdown",
   "metadata": {},
   "source": [
    "### 고급 정렬 <br/>\n",
    "\n",
    "힙 정렬 / 셸 정렬 / 계수 정렬 / 기수 정렬 / 특수 정렬 / 기수 정렬 / 버킷정렬"
   ]
  },
  {
   "cell_type": "code",
   "execution_count": 5,
   "metadata": {},
   "outputs": [
    {
     "name": "stdout",
     "output_type": "stream",
     "text": [
      "shellSort test\n",
      "A[]:        [3, 8, 2, 24, 8, 1, 12, 1, 0, 55, 23, 44, 3, 57, 256, 11, 9, 3, 4, 5, 6, 36, 912, 23, 4, 2, 55, 0, 256, 333, 23, 65]\n",
      "Sorted A[]: [0, 0, 1, 1, 2, 2, 3, 3, 3, 4, 4, 5, 6, 8, 8, 9, 11, 12, 23, 23, 23, 24, 36, 44, 55, 55, 57, 65, 256, 256, 333, 912]\n"
     ]
    }
   ],
   "source": [
    "# 셸 정렬 # shellsort\n",
    "def shellSort(A):  # A[0...n-1]: 정렬할 리스트\n",
    "\tH = gapSequence(len(A))\n",
    "\tfor h in H:  # H = [h0, h1, ..., 1]: 갭 수열\n",
    "\t\tfor k in range(h):\n",
    "\t\t\tstepInsertionSort(A, k, h)\n",
    "\n",
    "def stepInsertionSort(A, k:int, h:int):  # A[k, k+h, k+2h, ...]을 정렬한다\n",
    "\tfor i in range(k + h, len(A), h):\n",
    "\t\tj = i - h\n",
    "\t\tnewItem = A[i]\n",
    "\t\t# 이 지점에서 A[..., j-2h, j-h, j]는 이미 정렬되어 있는 상태임\n",
    "\t\t# A[..., j-2h, j-h, j, j+h]의 맞는 곳에 A[j+h]를 삽입한다\n",
    "\t\twhile 0 <= j and newItem < A[j]:\n",
    "\t\t\tA[j + h] = A[j]\n",
    "\t\t\tj -= h\n",
    "\t\tA[j + h] = newItem\n",
    "\n",
    "def gapSequence(n:int) -> list: # 갭 수열 만들기. 다양한 선택이 있음\n",
    "\tH = [1]; gap = 1\n",
    "\twhile gap < n/5:\n",
    "\t\tgap = 3 * gap + 1\n",
    "\t\tH.append(gap)\n",
    "\tH.reverse()\n",
    "\treturn H\n",
    "\n",
    "def main():\n",
    "    print(\"shellSort test\")\n",
    "    A = [3, 8, 2, 24, 8, 1, 12,1, 0, 55, 23, 44, 3, 57, 256, 11, 9, 3, 4, 5, 6, 36, 912, 23, 4, 2, 55, 0, 256, 333, 23, 65]\n",
    "    print(\"A[]:       \", A)\n",
    "    shellSort(A)\n",
    "    print(\"Sorted A[]:\", A)\n",
    "\n",
    "if __name__ == \"__main__\":\n",
    "    main()\n",
    "\n"
   ]
  },
  {
   "cell_type": "code",
   "execution_count": 7,
   "metadata": {},
   "outputs": [
    {
     "name": "stdout",
     "output_type": "stream",
     "text": [
      "A[]:        [35, 24, 16, 21, 4, 72, 23, 9, 23, 14, 58, 12, 0]\n",
      "Sorted A[]: [0, 4, 9, 12, 14, 16, 21, 23, 23, 24, 35, 58, 72]\n"
     ]
    }
   ],
   "source": [
    "# 계수정렬 # counting sort\n",
    "def countingSort(A):\n",
    "\tk = max(A)\t# 리스트 A[...]에서 최대값\n",
    "\tC = [0 for _ in range(k+1)]\n",
    "\tfor j in range(len(A)):\n",
    "\t\tC[A[j]] += 1\n",
    "\tfor i in range(1, k+1):\n",
    "\t\tC[i] = C[i] + C[i-1]\n",
    "\tB = [0 for _ in range(len(A))] \n",
    "\tfor j in range(len(A)-1, -1, -1):\n",
    "\t\tB[C[A[j]]-1] = A[j]\n",
    "\t\tC[A[j]] -= 1\n",
    "\treturn B\n",
    "\n",
    "def main():\n",
    "    A = [35, 24, 16, 21, 4, 72, 23, 9, 23, 14, 58, 12, 0]\n",
    "    print(\"A[]:       \", A)\n",
    "    print(\"Sorted A[]:\", countingSort(A))\n",
    "\n",
    "if __name__ == \"__main__\":\n",
    "    main()\n",
    "\n"
   ]
  },
  {
   "cell_type": "code",
   "execution_count": 10,
   "metadata": {},
   "outputs": [
    {
     "name": "stdout",
     "output_type": "stream",
     "text": [
      "Quicksort test\n",
      "A[]:        [3, 8, 2, 4, 8, 77, 1, 2, 0, 5, 56, 28]\n",
      "Sorted A[]: [0, 1, 2, 2, 3, 4, 5, 8, 8, 28, 56, 77]\n"
     ]
    }
   ],
   "source": [
    "# 기수 정렬 # radix sort\n",
    "import math\n",
    "\n",
    "def radixSort(A):\n",
    "\tmaxValue = max(A)\n",
    "\tnumDigits = math.ceil(math.log10(maxValue))  # 자릿수 계산\n",
    "\tbucket = [[] for _ in range(10)]  # 0, 1, ..., 9에 대한 10개의 리스트\n",
    "\tfor i in range(numDigits):\n",
    "\t\tfor x in A:\n",
    "\t\t\ty = (x // 10**i) % 10\n",
    "\t\t\tbucket[y].append(x)\n",
    "\t\tA.clear()\n",
    "\t\tfor j in range(10):\n",
    "\t\t\tA.extend(bucket[j])\n",
    "\t\t\tbucket[j].clear()\n",
    "\n",
    "def quickSort(A, p:int, r:int):\n",
    "\tif p < r:\n",
    "\t\tq = partition(A, p, r)\t # 분할\n",
    "\t\tquickSort(A, p, q-1)\t # 왼쪽 부분 리스트 정렬\n",
    "\t\tquickSort(A, q+1, r)\t # 오른쪽 부분 리스트 정렬\n",
    "\n",
    "def partition(A, p:int, r:int) -> int:\n",
    "\tx = A[r]\t\t\t\t\t# x: 기준 원소\n",
    "\ti = p-1\t\t\t\t\t# i: 1구역의 끝 지점\n",
    "\tfor j in range(p, r):\t# j: 3구역의 시작 지점\n",
    "\t\tif A[j] < x:\n",
    "\t\t\ti += 1\n",
    "\t\t\tA[i], A[j] = A[j], A[i]  # 교환\n",
    "\tA[i+1], A[r] = A[r], A[i+1]\t   # 기준 원소와 2구역 첫 원소 교환\n",
    "\treturn i+1\n",
    "\n",
    "\t\t\t\n",
    "def main():\n",
    "    print(\"Quicksort test\")\n",
    "    A = [3, 8, 2, 4, 8, 77, 1, 2, 0, 5, 56, 28]\n",
    "    print(\"A[]:       \", A)\n",
    "    quickSort(A, 0, len(A)-1)\n",
    "    print(\"Sorted A[]:\", A)\n",
    "\n",
    "if __name__ == \"__main__\":\n",
    "    main()\n"
   ]
  },
  {
   "cell_type": "code",
   "execution_count": 12,
   "metadata": {},
   "outputs": [
    {
     "name": "stdout",
     "output_type": "stream",
     "text": [
      "A[]:        [0.35, 0.24, 0.16, 0.21, 0.4, 0.72, 0.23, 0.9, 0.23, 0.14, 0.58, 0.12, 0]\n",
      "Sorted A[]: [0, 0.12, 0.14, 0.16, 0.21, 0.23, 0.23, 0.24, 0.35, 0.4, 0.58, 0.72, 0.9]\n"
     ]
    }
   ],
   "source": [
    "def bucketSort(A):  # [0, 1) 범위의 실수 정렬\n",
    "\tn = len(A)\n",
    "\tB = [[] for _ in range(n)]\n",
    "\tfor i in range(n):\n",
    "\t\tB[math.floor(n*A[i])].append(A[i])\n",
    "\tA.clear()\n",
    "\tfor i in range(n):\n",
    "\t\tinsertionSort(B[i])\n",
    "\t\tA.extend(B[i])\n",
    "\t\t\n",
    "def insertionSort(A):\n",
    "\tfor i in range(1, len(A)):\n",
    "\t\tloc = i-1\n",
    "\t\tnewItem = A[i]\n",
    "\t\twhile loc >= 0 and newItem < A[loc]:\n",
    "\t\t\tA[loc+1] = A[loc]\n",
    "\t\t\tloc -= 1\n",
    "\t\tA[loc+1] = newItem\n",
    "\t\t\n",
    "def main():\n",
    "    A = [0.35, .24, .16, .21, .4, .72, .23, .9, .23, .14, .58, .12, 0]\n",
    "    print(\"A[]:       \", A)\n",
    "    bucketSort(A)\n",
    "    print(\"Sorted A[]:\", A)\n",
    "\n",
    "if __name__ == \"__main__\":\n",
    "    main()\n"
   ]
  },
  {
   "cell_type": "code",
   "execution_count": null,
   "metadata": {},
   "outputs": [],
   "source": []
  },
  {
   "cell_type": "code",
   "execution_count": null,
   "metadata": {},
   "outputs": [],
   "source": []
  },
  {
   "cell_type": "markdown",
   "metadata": {},
   "source": [
    "고급 정렬..<br>\n",
    "힙정렬 <br>\n",
    "    최대 힙이나 최소 힙 자료구조를 이용하여 정렬하는 알고리즘 / 주어진 배열을 힙으로 변환하고 루트 노드를 제거하고 재 정렬을 반복하여 정렬 주행<br>\n",
    "    \n",
    "셀 정렬 <br>\n",
    "    삽입 정렬의 일반화를 통해 더 효율적인 정렬을 수행하는 알고리즘 / 일정한 간격을 두고 부분 리스트를 정렬한 후 점차 간격을 줄이면 전체 리스트 정렬<br>\n",
    "\n",
    "계수 정렬<br>\n",
    "    특정 범위 안의 정수를 정렬할 때 유용한 알고리즘 / 각 값의 발생 빈도를 계산 한 후 누적 합을 이용해 정렬된 결과 생성<br>\n",
    "\n",
    "기수 정렬<br>\n",
    "    각 자릿수를 기준으로 정렬을 반복 하여 전체를 정렬 <br>\n",
    "\n",
    "특수 정렬<br> \n",
    "    특정한 규칙 이나 조건, 특정 키를 기준으로 정렬<br>\n",
    "\n",
    "버킷 정렬<br>\n",
    "    데이터를 여러개의 버킷으로 분할 하여 각 버킷을 개별적으로 정렬하여 합치는 알고리즘<br>\n",
    "\n"
   ]
  },
  {
   "cell_type": "code",
   "execution_count": 8,
   "metadata": {},
   "outputs": [],
   "source": [
    "def heapSort(A):\n",
    "    buildHeap(A)\n",
    "    for last in range(len(A)-1, 0, -1): # len(A) - 1 \n",
    "        A[last], A[0] = A[0], A[last]\n",
    "        percolateDown(A, 0, last-1)\n",
    "\n",
    "\n",
    "def buildHeap(A):                               # 요기 를 들여쓰기 해서 함수 만들지 말고 heap Sort 랑 같은 위치에 ~ class 아니니까 ..!\n",
    "        for i in range((len(A)-2)//2, -1, -1):\n",
    "            percolateDown(A, i, len(A)-1)       # heap 정렬에 사용되는 percolateDown 은 len 을 파라미터로 넘겨줌 # 그냥 힙에서는 self.__A 의 len 직접 구해서 조건문 만들었는데..\n",
    "\n",
    "\n",
    "def percolateDown(A, k:int, end:int):\n",
    "        child = 2*k+1\n",
    "        right = 2*k+2\n",
    "        if (child<=end):\n",
    "            if right <= end and A[child] < A[right]:\n",
    "                child = right\n",
    "\n",
    "            if A[k] < A[child]:\n",
    "                A[k], A[child] = A[child], A[k]\n",
    "                percolateDown(A, child, end)"
   ]
  },
  {
   "cell_type": "code",
   "execution_count": 7,
   "metadata": {},
   "outputs": [
    {
     "name": "stdout",
     "output_type": "stream",
     "text": [
      "Heapsort!\n",
      "A[]:        [3, 8, 2, 4, 8, 1, 2, 0, 5, 9]\n",
      "Sorted A[]: [0, 1, 2, 2, 3, 4, 5, 8, 8, 9]\n"
     ]
    }
   ],
   "source": [
    "\n",
    "def main():\n",
    "    print(\"Heapsort!\")\n",
    "    A = [3, 8, 2, 4, 8, 1, 2, 0, 5, 9]\n",
    "    print(\"A[]:       \", A)\n",
    "    heapSort(A)\n",
    "    print(\"Sorted A[]:\", A)\n",
    "\n",
    "if __name__ == \"__main__\":\n",
    "    main()"
   ]
  },
  {
   "cell_type": "markdown",
   "metadata": {},
   "source": []
  }
 ],
 "metadata": {
  "kernelspec": {
   "display_name": "Python 3",
   "language": "python",
   "name": "python3"
  },
  "language_info": {
   "codemirror_mode": {
    "name": "ipython",
    "version": 3
   },
   "file_extension": ".py",
   "mimetype": "text/x-python",
   "name": "python",
   "nbconvert_exporter": "python",
   "pygments_lexer": "ipython3",
   "version": "3.11.7"
  }
 },
 "nbformat": 4,
 "nbformat_minor": 2
}
