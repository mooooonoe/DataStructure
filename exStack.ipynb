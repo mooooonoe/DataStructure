{
 "cells": [
  {
   "cell_type": "code",
   "execution_count": 2,
   "metadata": {},
   "outputs": [],
   "source": [
    "class Queue():\n",
    "    def __init__(self):\n",
    "        self.items = []\n",
    "    \n",
    "    def isEmpty(self):\n",
    "        if len(self.items) == 0:\n",
    "            return True\n",
    "        else:\n",
    "            return False\n",
    "    \n",
    "    def enqueue(self, newItem):\n",
    "        self.items.append(newItem)\n",
    "    \n",
    "    def dequeue(self):\n",
    "        if not self.isEmpty():\n",
    "            return self.items.pop(0)\n",
    "        else:\n",
    "            return None\n",
    "    def size(self):\n",
    "        return len(self.items)"
   ]
  },
  {
   "cell_type": "code",
   "execution_count": 3,
   "metadata": {},
   "outputs": [
    {
     "name": "stdout",
     "output_type": "stream",
     "text": [
      "[0, 1, 2]\n"
     ]
    }
   ],
   "source": [
    "queue = Queue()\n",
    "\n",
    "for i in range(3):\n",
    "    queue.enqueue(i)\n",
    "\n",
    "print(queue.items)"
   ]
  },
  {
   "cell_type": "code",
   "execution_count": 4,
   "metadata": {},
   "outputs": [
    {
     "name": "stdout",
     "output_type": "stream",
     "text": [
      "3\n"
     ]
    }
   ],
   "source": [
    "print(queue.size())"
   ]
  },
  {
   "cell_type": "markdown",
   "metadata": {},
   "source": [
    "1. 후위 표현법의 식을 스택을 이용해 계산하는 과정에서 스택의 상태 변화 설명 "
   ]
  },
  {
   "cell_type": "code",
   "execution_count": 17,
   "metadata": {},
   "outputs": [],
   "source": [
    "# ListStack\n",
    "class ListStack:\n",
    "    def __init__(self):\n",
    "        self.__stack = []\n",
    "    \n",
    "    def push(self, item):\n",
    "        self.__stack.append(item)\n",
    "    \n",
    "    def pop(self):\n",
    "        return self.__stack.pop()\n",
    "            \n",
    "    def top(self):\n",
    "        if self.isEmpty():\n",
    "            return None\n",
    "        else:\n",
    "            return self.__stack[-1]\n",
    "    \n",
    "    def isEmpty(self) -> bool:\n",
    "        return not bool(self.__stack)\n",
    "    \n",
    "    def popAll(self):\n",
    "        self.__stack.clear()\n",
    "\n",
    "    def printStack(self):\n",
    "        print(\"Stack from top:\", end = ' ')\n",
    "        for i in range(len(self.__stack)-1, -1, -1):\n",
    "            print(self.__stack[i], end = ' ')\n",
    "        print()\n",
    "    "
   ]
  },
  {
   "cell_type": "code",
   "execution_count": 18,
   "metadata": {},
   "outputs": [],
   "source": [
    "def checkStr(s):\n",
    "    stack = ListStack()\n",
    "    found_dollar = False\n",
    "\n",
    "    for i in range(len(s)):\n",
    "        if s[i] == '$':\n",
    "            found_dollar = True\n",
    "            continue \n",
    "\n",
    "        if not found_dollar:\n",
    "            stack.push(s[i])\n",
    "        else:\n",
    "            if stack.isEmpty():\n",
    "                return False\n",
    "            if s[i] != stack.pop():\n",
    "                return False\n",
    "    \n",
    "    return stack.isEmpty()"
   ]
  },
  {
   "cell_type": "code",
   "execution_count": 19,
   "metadata": {},
   "outputs": [
    {
     "name": "stdout",
     "output_type": "stream",
     "text": [
      "True\n"
     ]
    }
   ],
   "source": [
    "str = 'abc$cba'\n",
    "print(checkStr(str))"
   ]
  },
  {
   "cell_type": "markdown",
   "metadata": {},
   "source": [
    "2. 리스트의 맨 앞을 스택의 탑으로 간주하여 listStack 코드를 바꾸어 보세요"
   ]
  },
  {
   "cell_type": "code",
   "execution_count": null,
   "metadata": {},
   "outputs": [],
   "source": []
  },
  {
   "cell_type": "markdown",
   "metadata": {},
   "source": [
    "3. 입력으로 들어온 문자열이 다음 집합의 원소인지 체크하는 코드를 스택을 이용하여 작성하세요"
   ]
  },
  {
   "cell_type": "code",
   "execution_count": 13,
   "metadata": {},
   "outputs": [],
   "source": [
    "# 일단 stack 구현\n",
    "class stack:\n",
    "    def __init__(self):\n",
    "        self.items = []\n",
    "\n",
    "    def push(self, newItem):\n",
    "        self.items.append(newItem)\n",
    "    \n",
    "    def pop(self):\n",
    "        return self.items.pop()\n",
    "    \n",
    "    def printS(self):\n",
    "        for i in range(len(self.items)):\n",
    "            print(self.items(i))"
   ]
  },
  {
   "cell_type": "code",
   "execution_count": 10,
   "metadata": {},
   "outputs": [],
   "source": [
    "myS = stack()"
   ]
  },
  {
   "cell_type": "code",
   "execution_count": 12,
   "metadata": {},
   "outputs": [
    {
     "ename": "TypeError",
     "evalue": "'list' object is not callable",
     "output_type": "error",
     "traceback": [
      "\u001b[1;31m---------------------------------------------------------------------------\u001b[0m",
      "\u001b[1;31mTypeError\u001b[0m                                 Traceback (most recent call last)",
      "Cell \u001b[1;32mIn[12], line 5\u001b[0m\n\u001b[0;32m      2\u001b[0m myS\u001b[38;5;241m.\u001b[39mpush(\u001b[38;5;241m2\u001b[39m)\n\u001b[0;32m      3\u001b[0m myS\u001b[38;5;241m.\u001b[39mpush(\u001b[38;5;241m3\u001b[39m)\n\u001b[1;32m----> 5\u001b[0m \u001b[43mmyS\u001b[49m\u001b[38;5;241;43m.\u001b[39;49m\u001b[43mprintS\u001b[49m\u001b[43m(\u001b[49m\u001b[43m)\u001b[49m\n",
      "Cell \u001b[1;32mIn[9], line 14\u001b[0m, in \u001b[0;36mstack.printS\u001b[1;34m(self)\u001b[0m\n\u001b[0;32m     12\u001b[0m \u001b[38;5;28;01mdef\u001b[39;00m \u001b[38;5;21mprintS\u001b[39m(\u001b[38;5;28mself\u001b[39m):\n\u001b[0;32m     13\u001b[0m     \u001b[38;5;28;01mfor\u001b[39;00m i \u001b[38;5;129;01min\u001b[39;00m \u001b[38;5;28mrange\u001b[39m(\u001b[38;5;28mlen\u001b[39m(\u001b[38;5;28mself\u001b[39m\u001b[38;5;241m.\u001b[39mitems)):\n\u001b[1;32m---> 14\u001b[0m         \u001b[38;5;28mprint\u001b[39m(\u001b[38;5;28;43mself\u001b[39;49m\u001b[38;5;241;43m.\u001b[39;49m\u001b[43mitems\u001b[49m\u001b[43m(\u001b[49m\u001b[43mi\u001b[49m\u001b[43m)\u001b[49m)\n",
      "\u001b[1;31mTypeError\u001b[0m: 'list' object is not callable"
     ]
    }
   ],
   "source": [
    "myS.push(1)\n",
    "myS.push(2)\n",
    "myS.push(3)\n",
    "\n",
    "myS.printS()"
   ]
  },
  {
   "cell_type": "code",
   "execution_count": 28,
   "metadata": {},
   "outputs": [
    {
     "name": "stdout",
     "output_type": "stream",
     "text": [
      "1\n",
      "2\n",
      "3\n"
     ]
    }
   ],
   "source": [
    "class Stack:\n",
    "    def __init__(self):\n",
    "        self.items = []\n",
    "\n",
    "    def push(self, newItem):\n",
    "        self.items.append(newItem)\n",
    "    \n",
    "    def pop(self):\n",
    "        return self.items.pop()\n",
    "    \n",
    "    def insert(self, s):\n",
    "        for item in s:\n",
    "            self.items.append(item)\n",
    "\n",
    "    \n",
    "    def printS(self):\n",
    "        for item in self.items:\n",
    "            print(item)\n",
    "\n",
    "    def checker(self)->bool:\n",
    "        for item in self.items:\n",
    "            tmp = Stack()\n",
    "            tmp.push(item)\n",
    "            if item == '$':\n",
    "                idx = self.getNode()\n",
    "                break\n",
    "        \n",
    "        for i in idx:\n",
    "            n = -1\n",
    "            if tmp.pop() == self.items(n):\n",
    "                T = True\n",
    "                n -=1\n",
    "            else: \n",
    "                T = False\n",
    "\n",
    "        return T\n",
    "\n",
    "    def getNode(self):\n",
    "        return len(self.items())\n",
    "\n",
    "myS = Stack()\n",
    "\n",
    "myS.push(1)\n",
    "myS.push(2)\n",
    "myS.push(3)\n",
    "\n",
    "myS.printS()\n"
   ]
  },
  {
   "cell_type": "markdown",
   "metadata": {},
   "source": [
    "*** 반복문에 range 넣지 말고 list 자체를 넣기"
   ]
  },
  {
   "cell_type": "code",
   "execution_count": 20,
   "metadata": {},
   "outputs": [],
   "source": [
    "# 3.  \n",
    "def checker(self)->bool:\n",
    "    for item in self.items:\n",
    "        tmp = Stack()\n",
    "        tmp.push(item)\n",
    "        if item == '$':\n",
    "            idx = self.getNode()\n",
    "            break\n",
    "    \n",
    "    for i in idx:\n",
    "        n = -1\n",
    "        if tmp.pop() == self.items(n):\n",
    "            T = True\n",
    "            n -=1\n",
    "        else: \n",
    "            T = False\n",
    "\n",
    "    return T\n",
    "\n",
    "def getNode(self):\n",
    "    return len(self.items())\n"
   ]
  },
  {
   "cell_type": "code",
   "execution_count": 29,
   "metadata": {},
   "outputs": [],
   "source": [
    "str_i = 'abc&cba'"
   ]
  },
  {
   "cell_type": "code",
   "execution_count": 31,
   "metadata": {},
   "outputs": [
    {
     "name": "stdout",
     "output_type": "stream",
     "text": [
      "a\n",
      "b\n",
      "c\n",
      "&\n",
      "c\n",
      "b\n",
      "a\n"
     ]
    }
   ],
   "source": [
    "myS = Stack()\n",
    "myS.insert(str_i)\n",
    "myS.printS()"
   ]
  },
  {
   "cell_type": "code",
   "execution_count": 32,
   "metadata": {},
   "outputs": [
    {
     "ename": "UnboundLocalError",
     "evalue": "cannot access local variable 'idx' where it is not associated with a value",
     "output_type": "error",
     "traceback": [
      "\u001b[1;31m---------------------------------------------------------------------------\u001b[0m",
      "\u001b[1;31mUnboundLocalError\u001b[0m                         Traceback (most recent call last)",
      "Cell \u001b[1;32mIn[32], line 1\u001b[0m\n\u001b[1;32m----> 1\u001b[0m \u001b[43mmyS\u001b[49m\u001b[38;5;241;43m.\u001b[39;49m\u001b[43mchecker\u001b[49m\u001b[43m(\u001b[49m\u001b[43m)\u001b[49m\n",
      "Cell \u001b[1;32mIn[28], line 28\u001b[0m, in \u001b[0;36mStack.checker\u001b[1;34m(self)\u001b[0m\n\u001b[0;32m     25\u001b[0m         idx \u001b[38;5;241m=\u001b[39m \u001b[38;5;28mself\u001b[39m\u001b[38;5;241m.\u001b[39mgetNode()\n\u001b[0;32m     26\u001b[0m         \u001b[38;5;28;01mbreak\u001b[39;00m\n\u001b[1;32m---> 28\u001b[0m \u001b[38;5;28;01mfor\u001b[39;00m i \u001b[38;5;129;01min\u001b[39;00m \u001b[43midx\u001b[49m:\n\u001b[0;32m     29\u001b[0m     n \u001b[38;5;241m=\u001b[39m \u001b[38;5;241m-\u001b[39m\u001b[38;5;241m1\u001b[39m\n\u001b[0;32m     30\u001b[0m     \u001b[38;5;28;01mif\u001b[39;00m tmp\u001b[38;5;241m.\u001b[39mpop() \u001b[38;5;241m==\u001b[39m \u001b[38;5;28mself\u001b[39m\u001b[38;5;241m.\u001b[39mitems(n):\n",
      "\u001b[1;31mUnboundLocalError\u001b[0m: cannot access local variable 'idx' where it is not associated with a value"
     ]
    }
   ],
   "source": [
    "myS.checker()"
   ]
  },
  {
   "cell_type": "code",
   "execution_count": 36,
   "metadata": {},
   "outputs": [
    {
     "name": "stdout",
     "output_type": "stream",
     "text": [
      "a\n",
      "b\n",
      "c\n",
      "&\n",
      "c\n",
      "b\n",
      "a\n"
     ]
    },
    {
     "data": {
      "text/plain": [
       "True"
      ]
     },
     "execution_count": 36,
     "metadata": {},
     "output_type": "execute_result"
    }
   ],
   "source": [
    "class Stack:\n",
    "    def __init__(self):\n",
    "        self.items = []\n",
    "\n",
    "    def push(self, newItem):\n",
    "        self.items.append(newItem)\n",
    "    \n",
    "    def pop(self):\n",
    "        return self.items.pop()\n",
    "    \n",
    "    def insert(self, s):\n",
    "        for item in s:\n",
    "            self.items.append(item)\n",
    "\n",
    "    def printS(self):\n",
    "        for item in self.items:\n",
    "            print(item)\n",
    "\n",
    "    def checker(self) -> bool:\n",
    "        idx = []\n",
    "        for i, item in enumerate(self.items):\n",
    "            if item == '$':\n",
    "                idx.append(i)\n",
    "        \n",
    "        for i in idx:\n",
    "            tmp = Stack()\n",
    "            for j in range(i + 1):\n",
    "                tmp.push(self.items[j])\n",
    "\n",
    "            for j in range(i + 1):\n",
    "                if tmp.pop() != self.items[j]:\n",
    "                    return False\n",
    "\n",
    "        return True\n",
    "\n",
    "    def getNode(self):\n",
    "        return len(self.items)\n",
    "\n",
    "\n",
    "\n",
    "str_i = 'abc&cba' \n",
    "\n",
    "myS = Stack()\n",
    "myS.insert(str_i)\n",
    "myS.printS()\n",
    "\n",
    "myS.checker()\n"
   ]
  },
  {
   "cell_type": "code",
   "execution_count": 37,
   "metadata": {},
   "outputs": [
    {
     "name": "stdout",
     "output_type": "stream",
     "text": [
      "a\n",
      "b\n",
      "c\n",
      "&\n",
      "c\n",
      "b\n",
      "a\n"
     ]
    },
    {
     "data": {
      "text/plain": [
       "True"
      ]
     },
     "execution_count": 37,
     "metadata": {},
     "output_type": "execute_result"
    }
   ],
   "source": [
    "class Stack:\n",
    "    def __init__(self):\n",
    "        self.items = []\n",
    "\n",
    "    def push(self, newItem):\n",
    "        self.items.append(newItem)\n",
    "    \n",
    "    def pop(self):\n",
    "        return self.items.pop()\n",
    "    \n",
    "    def insert(self, s):\n",
    "        for item in s:\n",
    "            self.items.append(item)\n",
    "\n",
    "    def printS(self):\n",
    "        for item in self.items:\n",
    "            print(item)\n",
    "\n",
    "    def checker(self) -> bool:\n",
    "        idx = []\n",
    "        for i in range(len(self.items)):\n",
    "            if self.items[i] == '$':\n",
    "                idx.append(i)\n",
    "        \n",
    "        for i in idx:\n",
    "            tmp = Stack()\n",
    "            for j in range(i + 1):\n",
    "                tmp.push(self.items[j])\n",
    "\n",
    "            for j in range(i + 1):\n",
    "                if tmp.pop() != self.items[j]:\n",
    "                    return False\n",
    "\n",
    "        return True\n",
    "\n",
    "    def getNode(self):\n",
    "        return len(self.items)\n",
    "\n",
    "\n",
    "str_i = 'abc&cba' \n",
    "\n",
    "myS = Stack()\n",
    "myS.insert(str_i)\n",
    "myS.printS()\n",
    "\n",
    "myS.checker()\n"
   ]
  },
  {
   "cell_type": "markdown",
   "metadata": {},
   "source": [
    "4. linkedStack 타입의 객체 a의 내용을 그대로 또다른 linkedStack 타입의 객체 b 로 복사하는 코드 "
   ]
  },
  {
   "cell_type": "code",
   "execution_count": 44,
   "metadata": {},
   "outputs": [],
   "source": [
    "class Stack:\n",
    "    def __init__(self):\n",
    "        self.items = []\n",
    "\n",
    "    def push(self, newItem):\n",
    "        self.items.append(newItem)\n",
    "    \n",
    "    def pop(self):\n",
    "        return self.items.pop()\n",
    "    \n",
    "    def insert(self, s):\n",
    "        for item in s:\n",
    "            self.items.append(item)\n",
    "\n",
    "    def printS(self):\n",
    "        for item in self.items:\n",
    "            print(item, end='')\n",
    "\n",
    "    def copyS(self):\n",
    "        tmp = Stack()\n",
    "        for _ in len(self.items):\n",
    "            x = self.items.pop()\n",
    "            tmp.push(x)\n",
    "        \n",
    "        for _ in len(tmp.items):\n",
    "            stackB = Stack()\n",
    "            item = tmp.pop()\n",
    "            stackB.items.push(item)\n",
    "            self.itmes.push(item)\n",
    "\n",
    "        return stackB\n",
    "\n"
   ]
  },
  {
   "cell_type": "code",
   "execution_count": 45,
   "metadata": {},
   "outputs": [
    {
     "ename": "TypeError",
     "evalue": "'int' object is not iterable",
     "output_type": "error",
     "traceback": [
      "\u001b[1;31m---------------------------------------------------------------------------\u001b[0m",
      "\u001b[1;31mTypeError\u001b[0m                                 Traceback (most recent call last)",
      "Cell \u001b[1;32mIn[45], line 6\u001b[0m\n\u001b[0;32m      3\u001b[0m stackA\u001b[38;5;241m.\u001b[39mpush(\u001b[38;5;241m2\u001b[39m)\n\u001b[0;32m      4\u001b[0m stackA\u001b[38;5;241m.\u001b[39mpush(\u001b[38;5;241m3\u001b[39m)\n\u001b[1;32m----> 6\u001b[0m stackB \u001b[38;5;241m=\u001b[39m \u001b[43mstackA\u001b[49m\u001b[38;5;241;43m.\u001b[39;49m\u001b[43mcopyS\u001b[49m\u001b[43m(\u001b[49m\u001b[43m)\u001b[49m\n\u001b[0;32m      7\u001b[0m stackB\u001b[38;5;241m.\u001b[39mprintS()\n",
      "Cell \u001b[1;32mIn[44], line 21\u001b[0m, in \u001b[0;36mStack.copyS\u001b[1;34m(self)\u001b[0m\n\u001b[0;32m     19\u001b[0m \u001b[38;5;28;01mdef\u001b[39;00m \u001b[38;5;21mcopyS\u001b[39m(\u001b[38;5;28mself\u001b[39m):\n\u001b[0;32m     20\u001b[0m     tmp \u001b[38;5;241m=\u001b[39m Stack()\n\u001b[1;32m---> 21\u001b[0m \u001b[43m    \u001b[49m\u001b[38;5;28;43;01mfor\u001b[39;49;00m\u001b[43m \u001b[49m\u001b[43m_\u001b[49m\u001b[43m \u001b[49m\u001b[38;5;129;43;01min\u001b[39;49;00m\u001b[43m \u001b[49m\u001b[38;5;28;43mlen\u001b[39;49m\u001b[43m(\u001b[49m\u001b[38;5;28;43mself\u001b[39;49m\u001b[38;5;241;43m.\u001b[39;49m\u001b[43mitems\u001b[49m\u001b[43m)\u001b[49m\u001b[43m:\u001b[49m\n\u001b[0;32m     22\u001b[0m \u001b[43m        \u001b[49m\u001b[43mx\u001b[49m\u001b[43m \u001b[49m\u001b[38;5;241;43m=\u001b[39;49m\u001b[43m \u001b[49m\u001b[38;5;28;43mself\u001b[39;49m\u001b[38;5;241;43m.\u001b[39;49m\u001b[43mitems\u001b[49m\u001b[38;5;241;43m.\u001b[39;49m\u001b[43mpop\u001b[49m\u001b[43m(\u001b[49m\u001b[43m)\u001b[49m\n\u001b[0;32m     23\u001b[0m \u001b[43m        \u001b[49m\u001b[43mtmp\u001b[49m\u001b[38;5;241;43m.\u001b[39;49m\u001b[43mpush\u001b[49m\u001b[43m(\u001b[49m\u001b[43mx\u001b[49m\u001b[43m)\u001b[49m\n",
      "\u001b[1;31mTypeError\u001b[0m: 'int' object is not iterable"
     ]
    }
   ],
   "source": [
    "stackA = Stack()\n",
    "stackA.push(1)\n",
    "stackA.push(2)\n",
    "stackA.push(3)\n",
    "\n",
    "stackB = stackA.copyS()\n",
    "stackB.printS()"
   ]
  },
  {
   "cell_type": "code",
   "execution_count": 1,
   "metadata": {},
   "outputs": [
    {
     "name": "stdout",
     "output_type": "stream",
     "text": [
      "123\n",
      "123"
     ]
    }
   ],
   "source": [
    "class Stack:\n",
    "    def __init__(self):\n",
    "        self.items = []\n",
    "\n",
    "    def push(self, newItem):\n",
    "        self.items.append(newItem)\n",
    "    \n",
    "    def pop(self):\n",
    "        return self.items.pop()\n",
    "    \n",
    "    def insert(self, s):\n",
    "        for item in s:\n",
    "            self.items.append(item)\n",
    "\n",
    "    def printS(self):\n",
    "        for item in self.items:\n",
    "            print(item, end='')\n",
    "\n",
    "    def copyS(self):\n",
    "        tmp = Stack()\n",
    "        while len(self.items) > 0:\n",
    "            x = self.items.pop()\n",
    "            tmp.push(x)\n",
    "        \n",
    "        stackB = Stack()\n",
    "        while len(tmp.items) > 0:\n",
    "            item = tmp.pop()\n",
    "            stackB.push(item)\n",
    "            self.push(item)\n",
    "\n",
    "        return stackB\n",
    "\n",
    "stackA = Stack()\n",
    "stackA.push(1)\n",
    "stackA.push(2)\n",
    "stackA.push(3)\n",
    "stackA.printS()\n",
    "\n",
    "print('')\n",
    "\n",
    "stackB = stackA.copyS()\n",
    "stackB.printS()\n"
   ]
  },
  {
   "cell_type": "markdown",
   "metadata": {},
   "source": [
    "5. 문자열을 받아 괄호 () 의 좌우 균형이 맞는지 체크해서 균형이 맞으면 True, 맞지 않으면 False 를 리턴하는 파이썬 함수 parenBalance()를 스택을 사용해서 작성하시오\n",
    "\n",
    "6. 5번 문제는 단순히 한 종류의 괄호만 대상으로 하였다. 여러 종류의 괄호 균형이 다 맞는 지 확인하려고 한다면 로직이 더 복잡해지는가?"
   ]
  },
  {
   "cell_type": "code",
   "execution_count": null,
   "metadata": {},
   "outputs": [],
   "source": [
    "class Stack:\n",
    "    def __init__(self):\n",
    "        self.items = []\n",
    "\n",
    "    def push(self, newItem):\n",
    "        self.items.append(newItem)\n",
    "    \n",
    "    def pop(self):\n",
    "        return self.items.pop()\n",
    "    \n",
    "    def insert(self, s):\n",
    "        for item in s:\n",
    "            self.items.append(item)\n",
    "\n",
    "    def printS(self):\n",
    "        for item in self.items:\n",
    "            print(item, end='')\n",
    "\n",
    "    def parenBalance(self):\n",
    "        for i in self.items:\n",
    "            if i == '(':\n",
    "                \n",
    "\n",
    "        return True"
   ]
  },
  {
   "cell_type": "code",
   "execution_count": 51,
   "metadata": {},
   "outputs": [
    {
     "name": "stdout",
     "output_type": "stream",
     "text": [
      "True\n",
      "True\n",
      "False\n",
      "False\n",
      "True\n"
     ]
    }
   ],
   "source": [
    "def parenBalance(s):\n",
    "    stack = []\n",
    "    opening_brackets = '({['\n",
    "    closing_brackets = ')}]'\n",
    "    bracket_pairs = {')': '(', '}': '{', ']': '['}\n",
    "    \n",
    "    for char in s:\n",
    "        if char in opening_brackets:\n",
    "            stack.append(char)\n",
    "        elif char in closing_brackets:\n",
    "            if not stack:\n",
    "                return False  # 오른쪽 괄호가 먼저 나왔을 경우\n",
    "            if stack[-1] == bracket_pairs[char]:\n",
    "                stack.pop()\n",
    "            else:\n",
    "                return False  # 괄호의 짝이 맞지 않음\n",
    "    return len(stack) == 0  # 스택이 비어있으면 True, 아니면 False\n",
    "\n",
    "# 테스트\n",
    "print(parenBalance(\"()\"))  # True\n",
    "print(parenBalance(\"()[]{}\"))  # True\n",
    "print(parenBalance(\"(]\"))  # False\n",
    "print(parenBalance(\"([)]\"))  # False\n",
    "print(parenBalance(\"{[]}\"))  # True \n"
   ]
  },
  {
   "cell_type": "code",
   "execution_count": null,
   "metadata": {},
   "outputs": [],
   "source": []
  }
 ],
 "metadata": {
  "kernelspec": {
   "display_name": "base",
   "language": "python",
   "name": "python3"
  },
  "language_info": {
   "codemirror_mode": {
    "name": "ipython",
    "version": 3
   },
   "file_extension": ".py",
   "mimetype": "text/x-python",
   "name": "python",
   "nbconvert_exporter": "python",
   "pygments_lexer": "ipython3",
   "version": "3.11.9"
  }
 },
 "nbformat": 4,
 "nbformat_minor": 2
}
