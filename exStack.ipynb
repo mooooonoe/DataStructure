{
 "cells": [
  {
   "cell_type": "code",
   "execution_count": 2,
   "metadata": {},
   "outputs": [],
   "source": [
    "class Queue():\n",
    "    def __init__(self):\n",
    "        self.items = []\n",
    "    \n",
    "    def isEmpty(self):\n",
    "        if len(self.items) == 0:\n",
    "            return True\n",
    "        else:\n",
    "            return False\n",
    "    \n",
    "    def enqueue(self, newItem):\n",
    "        self.items.append(newItem)\n",
    "    \n",
    "    def dequeue(self):\n",
    "        if not self.isEmpty():\n",
    "            return self.items.pop(0)\n",
    "        else:\n",
    "            return None\n",
    "    def size(self):\n",
    "        return len(self.items)"
   ]
  },
  {
   "cell_type": "code",
   "execution_count": 3,
   "metadata": {},
   "outputs": [
    {
     "name": "stdout",
     "output_type": "stream",
     "text": [
      "[0, 1, 2]\n"
     ]
    }
   ],
   "source": [
    "queue = Queue()\n",
    "\n",
    "for i in range(3):\n",
    "    queue.enqueue(i)\n",
    "\n",
    "print(queue.items)"
   ]
  },
  {
   "cell_type": "code",
   "execution_count": 4,
   "metadata": {},
   "outputs": [
    {
     "name": "stdout",
     "output_type": "stream",
     "text": [
      "3\n"
     ]
    }
   ],
   "source": [
    "print(queue.size())"
   ]
  },
  {
   "cell_type": "markdown",
   "metadata": {},
   "source": [
    "1. 후위 표현법의 식을 스택을 이용해 계산하는 과정에서 스택의 상태 변화 설명 "
   ]
  },
  {
   "cell_type": "code",
   "execution_count": 17,
   "metadata": {},
   "outputs": [],
   "source": [
    "# ListStack\n",
    "class ListStack:\n",
    "    def __init__(self):\n",
    "        self.__stack = []\n",
    "    \n",
    "    def push(self, item):\n",
    "        self.__stack.append(item)\n",
    "    \n",
    "    def pop(self):\n",
    "        return self.__stack.pop()\n",
    "            \n",
    "    def top(self):\n",
    "        if self.isEmpty():\n",
    "            return None\n",
    "        else:\n",
    "            return self.__stack[-1]\n",
    "    \n",
    "    def isEmpty(self) -> bool:\n",
    "        return not bool(self.__stack)\n",
    "    \n",
    "    def popAll(self):\n",
    "        self.__stack.clear()\n",
    "\n",
    "    def printStack(self):\n",
    "        print(\"Stack from top:\", end = ' ')\n",
    "        for i in range(len(self.__stack)-1, -1, -1):\n",
    "            print(self.__stack[i], end = ' ')\n",
    "        print()\n",
    "    "
   ]
  },
  {
   "cell_type": "code",
   "execution_count": 18,
   "metadata": {},
   "outputs": [],
   "source": [
    "def checkStr(s):\n",
    "    stack = ListStack()\n",
    "    found_dollar = False\n",
    "\n",
    "    for i in range(len(s)):\n",
    "        if s[i] == '$':\n",
    "            found_dollar = True\n",
    "            continue \n",
    "\n",
    "        if not found_dollar:\n",
    "            stack.push(s[i])\n",
    "        else:\n",
    "            if stack.isEmpty():\n",
    "                return False\n",
    "            if s[i] != stack.pop():\n",
    "                return False\n",
    "    \n",
    "    return stack.isEmpty()"
   ]
  },
  {
   "cell_type": "code",
   "execution_count": 19,
   "metadata": {},
   "outputs": [
    {
     "name": "stdout",
     "output_type": "stream",
     "text": [
      "True\n"
     ]
    }
   ],
   "source": [
    "str = 'abc$cba'\n",
    "print(checkStr(str))"
   ]
  },
  {
   "cell_type": "code",
   "execution_count": null,
   "metadata": {},
   "outputs": [],
   "source": []
  }
 ],
 "metadata": {
  "kernelspec": {
   "display_name": "base",
   "language": "python",
   "name": "python3"
  },
  "language_info": {
   "codemirror_mode": {
    "name": "ipython",
    "version": 3
   },
   "file_extension": ".py",
   "mimetype": "text/x-python",
   "name": "python",
   "nbconvert_exporter": "python",
   "pygments_lexer": "ipython3",
   "version": "3.11.7"
  }
 },
 "nbformat": 4,
 "nbformat_minor": 2
}
