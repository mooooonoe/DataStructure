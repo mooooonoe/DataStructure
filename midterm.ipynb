{
 "cells": [
  {
   "cell_type": "markdown",
   "metadata": {},
   "source": [
    "4. '(', '{', '[' 관호 균형이 다 맞는지 확인하는 parenBalance()를 스택을 사용하여 작성"
   ]
  },
  {
   "cell_type": "code",
   "execution_count": null,
   "metadata": {},
   "outputs": [],
   "source": [
    "def parenBalance(s:string) ->bool:\n",
    "    stack = ListStack()\n",
    "    brackets = {'(':')','[':'']','{':'}}\n",
    "\n",
    "    for c in s:\n",
    "        if c in brackets.keys():\n",
    "            stack.push(c)\n",
    "\n",
    "        elif c in brackets.values():\n",
    "\n",
    "    return stack.isEmpty()"
   ]
  },
  {
   "cell_type": "code",
   "execution_count": 1,
   "metadata": {},
   "outputs": [
    {
     "name": "stdout",
     "output_type": "stream",
     "text": [
      "True\n",
      "True\n",
      "False\n"
     ]
    }
   ],
   "source": [
    "def parenBalance(s: str) -> bool:\n",
    "    stack = []  # 스택을 사용하여 괄호를 추적합니다.\n",
    "    brackets = {'(': ')', '[': ']', '{': '}'}\n",
    "\n",
    "    for c in s:\n",
    "        if c in brackets.keys():\n",
    "            stack.append(c)  # 여는 괄호를 스택에 추가합니다.\n",
    "\n",
    "        elif c in brackets.values():\n",
    "            if not stack:  # 스택이 비어있으면서 닫는 괄호가 나오면 균형이 맞지 않습니다.\n",
    "                return False\n",
    "            else:\n",
    "                # 스택에서 맨 위의 괄호를 뽑아냅니다.\n",
    "                top = stack.pop()\n",
    "                # 해당 여는 괄호에 대응하는 닫는 괄호를 가져옵니다.\n",
    "                corresponding_opening_bracket = [key for key, value in brackets.items() if value == c][0]\n",
    "                # 맨 위의 괄호와 닫는 괄호가 서로 대응하는지 확인합니다.\n",
    "                if top != corresponding_opening_bracket:\n",
    "                    return False\n",
    "\n",
    "    # 모든 문자를 순회한 후에도 스택에 여는 괄호가 남아있다면 균형이 맞지 않습니다.\n",
    "    return len(stack) == 0\n",
    "\n",
    "# 괄호 균형이 다 맞는지 확인합니다.\n",
    "print(parenBalance(\"(){}[]\"))  # True\n",
    "print(parenBalance(\"({[]})\"))  # True\n",
    "print(parenBalance(\"([)]\"))    # False\n",
    "\n"
   ]
  },
  {
   "cell_type": "code",
   "execution_count": 3,
   "metadata": {},
   "outputs": [
    {
     "name": "stdout",
     "output_type": "stream",
     "text": [
      "John: 85\n",
      "Emma: 92\n",
      "James: 78\n",
      "Sophia: 95\n",
      "Michael: 88\n"
     ]
    }
   ],
   "source": [
    "student_scores = {\n",
    "    \"John\": 85,\n",
    "    \"Emma\": 92,\n",
    "    \"James\": 78,\n",
    "    \"Sophia\": 95,\n",
    "    \"Michael\": 88\n",
    "}\n",
    "for name, score in student_scores.items():\n",
    "    print(f\"{name}: {score}\")\n"
   ]
  },
  {
   "cell_type": "code",
   "execution_count": 16,
   "metadata": {},
   "outputs": [
    {
     "name": "stdout",
     "output_type": "stream",
     "text": [
      "['(', '[', '{']\n",
      "['(', '[', '{']\n",
      "['(', '[', '{']\n",
      "True\n",
      "['(', '[', '{']\n",
      "['(', '[', '{']\n",
      "['(', '[', '{']\n",
      "True\n",
      "['(', '[', '{']\n",
      "False\n"
     ]
    }
   ],
   "source": [
    "def parenBalance(s:str) -> bool:\n",
    "    stack = []\n",
    "    brackets = {'(': ')', '[': ']', '{': '}'}\n",
    "\n",
    "    for c in s:\n",
    "        if c in brackets.keys():\n",
    "            stack.append(c)\n",
    "\n",
    "        elif c in brackets.values():\n",
    "            if not stack:\n",
    "                return False\n",
    "            else:\n",
    "                top = stack.pop()\n",
    "                o = [key for key, value in brackets.items() if value == c][0]\n",
    "                #print(o)\n",
    "                print([key for key, value in brackets.items()])\n",
    "                if top != o:\n",
    "                    return False\n",
    "                \n",
    "    return len(stack) == 0\n",
    "\n",
    "# 괄호 균형이 다 맞는지 확인합니다.\n",
    "print(parenBalance(\"(){}[]\"))  # True\n",
    "print(parenBalance(\"({[]})\"))  # True\n",
    "print(parenBalance(\"([)]\"))    # False\n",
    "\n",
    "\n",
    "\n"
   ]
  },
  {
   "cell_type": "markdown",
   "metadata": {},
   "source": [
    "[key for key, value in brackets.items() if value == c][0]\n",
    ": list comprehension\n",
    "\n",
    "조건을 만족하는 모든 키 key를 리스트에 추가\n",
    "이 과정을 통해 만들어진 리스트에서 [0]을 사용하여 첫 번째로 나오는 여는 괄호의 키를 선택"
   ]
  },
  {
   "cell_type": "markdown",
   "metadata": {},
   "source": [
    "print([key for key, value in brackets.items()][0])\n",
    ">> \n",
    "(\n",
    "(\n",
    "(\n",
    "True\n",
    "(\n",
    "(\n",
    "(\n",
    "True\n",
    "(\n",
    "False\n",
    "\n",
    "\n",
    "print([key for key, value in brackets.items()])\n",
    ">> ['(', '[', '{']\n",
    "['(', '[', '{']\n",
    "['(', '[', '{']\n",
    "True\n",
    "['(', '[', '{']\n",
    "['(', '[', '{']\n",
    "['(', '[', '{']\n",
    "True\n",
    "['(', '[', '{']\n",
    "False\n",
    "\n",
    "\n"
   ]
  },
  {
   "cell_type": "markdown",
   "metadata": {},
   "source": []
  },
  {
   "cell_type": "markdown",
   "metadata": {},
   "source": []
  }
 ],
 "metadata": {
  "kernelspec": {
   "display_name": "Python 3",
   "language": "python",
   "name": "python3"
  },
  "language_info": {
   "codemirror_mode": {
    "name": "ipython",
    "version": 3
   },
   "file_extension": ".py",
   "mimetype": "text/x-python",
   "name": "python",
   "nbconvert_exporter": "python",
   "pygments_lexer": "ipython3",
   "version": "3.11.9"
  }
 },
 "nbformat": 4,
 "nbformat_minor": 2
}
