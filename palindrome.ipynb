{
 "cells": [
  {
   "cell_type": "code",
   "execution_count": 100,
   "metadata": {},
   "outputs": [],
   "source": [
    "class ListQueue():\n",
    "    def __init__(self):\n",
    "        self.items = []\n",
    "\n",
    "    def enqueue(self, x):\n",
    "        self.items.append(x)\n",
    "    \n",
    "    def dequeue(self):\n",
    "        return self.items.pop(0)\n",
    "\n",
    "    def size(self):\n",
    "        return len(self.items)\n",
    "    \n",
    "    def isEmpty(self):\n",
    "        return self.size() == 0         #### 0 일때 참 거짓을 반환 해야함 \n",
    "\n",
    "    def printq(self):\n",
    "        if not self.isEmpty():\n",
    "            for i in self.items:\n",
    "                print(i, end = ' ')\n",
    "\n",
    "        else:\n",
    "            print('queue is Empty')"
   ]
  },
  {
   "cell_type": "code",
   "execution_count": 101,
   "metadata": {},
   "outputs": [
    {
     "name": "stdout",
     "output_type": "stream",
     "text": [
      "0 1 2 "
     ]
    }
   ],
   "source": [
    "q = ListQueue()\n",
    "\n",
    "for i in range(0,3):\n",
    "    q.enqueue(i)\n",
    "\n",
    "q.printq()"
   ]
  },
  {
   "cell_type": "code",
   "execution_count": 120,
   "metadata": {},
   "outputs": [
    {
     "name": "stdout",
     "output_type": "stream",
     "text": [
      "Palindrome Check!\n",
      "lioninoil is Palindrome? :  False\n"
     ]
    }
   ],
   "source": [
    "# 좌우동형 문자열 체크\n",
    "def isPalindrome(A) -> bool:\n",
    "    # 반으로 나누고 \n",
    "    n = len(A)//2\n",
    "    q = ListQueue()\n",
    "\n",
    "    for j in range(n):\n",
    "        q.enqueue(j)\n",
    "\n",
    "    T = False\n",
    "\n",
    "    for i in range(len(A), -1, n+1):\n",
    "        if q.dequeue() == A[i]:\n",
    "            T = True\n",
    "        else:\n",
    "            T = False\n",
    "\n",
    "    return T\n",
    "    \n",
    "def main():\n",
    "    print(\"Palindrome Check!\")\n",
    "    str = 'lioninoil'\n",
    "    t = isPalindrome(str)\n",
    "    print(str, \"is Palindrome? : \", t)\n",
    "\n",
    "if __name__ == \"__main__\":\n",
    "    main()"
   ]
  },
  {
   "cell_type": "code",
   "execution_count": 121,
   "metadata": {},
   "outputs": [
    {
     "name": "stdout",
     "output_type": "stream",
     "text": [
      "Palindrome Check!\n",
      "lioninoil is Palindrome? :  True\n"
     ]
    }
   ],
   "source": [
    "class ListQueue():\n",
    "    def __init__(self):\n",
    "        self.items = []\n",
    "\n",
    "    def enqueue(self, x):\n",
    "        self.items.append(x)\n",
    "    \n",
    "    def dequeue(self):\n",
    "        return self.items.pop(0)\n",
    "\n",
    "    def size(self):\n",
    "        return len(self.items)\n",
    "    \n",
    "    def isEmpty(self):\n",
    "        return len(self.items) == 0\n",
    "\n",
    "def isPalindrome(A: str) -> bool:\n",
    "    n = len(A)\n",
    "    q = ListQueue()\n",
    "\n",
    "    # 문자열의 반을 큐에 넣음\n",
    "    for j in range(n // 2):\n",
    "        q.enqueue(A[j])\n",
    "\n",
    "    # 문자열의 반을 확인하면서 큐에서 꺼내서 비교\n",
    "    for i in range(n // 2):\n",
    "        if q.dequeue() != A[n - i - 1]:  # 뒤에서부터 비교\n",
    "            return False\n",
    "    \n",
    "    return True\n",
    "    \n",
    "def main():\n",
    "    print(\"Palindrome Check!\")\n",
    "    s = 'lioninoil'\n",
    "    t = isPalindrome(s)\n",
    "    print(s, \"is Palindrome? : \", t)\n",
    "\n",
    "if __name__ == \"__main__\":\n",
    "    main()\n"
   ]
  },
  {
   "cell_type": "code",
   "execution_count": 118,
   "metadata": {},
   "outputs": [
    {
     "name": "stdout",
     "output_type": "stream",
     "text": [
      "4\n",
      "0 1 2 3  \n",
      "5 6 7 8 \n",
      "\n",
      "l\n"
     ]
    }
   ],
   "source": [
    "str = 'lioninoil'\n",
    "n = len(str)//2\n",
    "print(n)\n",
    "\n",
    "for i in range(n):\n",
    "    print(i, end=' ')\n",
    "\n",
    "print(' ')\n",
    "\n",
    "for i in range(n+1, len(str)): \n",
    "    print(i, end = ' ')\n",
    "\n",
    "print('')\n",
    "print('')\n",
    "print(str[0])"
   ]
  },
  {
   "cell_type": "code",
   "execution_count": null,
   "metadata": {},
   "outputs": [],
   "source": []
  }
 ],
 "metadata": {
  "kernelspec": {
   "display_name": "Python 3",
   "language": "python",
   "name": "python3"
  },
  "language_info": {
   "codemirror_mode": {
    "name": "ipython",
    "version": 3
   },
   "file_extension": ".py",
   "mimetype": "text/x-python",
   "name": "python",
   "nbconvert_exporter": "python",
   "pygments_lexer": "ipython3",
   "version": "3.11.9"
  }
 },
 "nbformat": 4,
 "nbformat_minor": 2
}
