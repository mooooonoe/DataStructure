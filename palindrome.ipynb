{
 "cells": [
  {
   "cell_type": "code",
   "execution_count": 39,
   "metadata": {},
   "outputs": [
    {
     "name": "stdout",
     "output_type": "stream",
     "text": [
      "14\n",
      "Input string :  Test Seq 12345\n",
      "Reversed string :  ['5', '4', '3', '2', '1', ' ', 'q', 'e', 'S', ' ', 't', 's', 'e', 'T']\n"
     ]
    }
   ],
   "source": [
    "# 문자열 뒤집기\n",
    "# input \"Test Seq 12345\"\n",
    "# output \"54321 qeS tseT\"\n",
    "\n",
    "class Stack:\n",
    "    def __init__(self):\n",
    "        self.items = []\n",
    "        self.__numitems = 0\n",
    "\n",
    "    def push(self, x):\n",
    "        self.items.append(x)\n",
    "        self.__numitems += 1\n",
    "\n",
    "    def pop(self):\n",
    "        return self.items.pop()\n",
    "        self.__numitems -= 1\n",
    "\n",
    "    def size(self):\n",
    "        return self.__numitems\n",
    "    \n",
    "    def isEmpty(self):\n",
    "        return self.__numitems == 0\n",
    "\n",
    "    def print_stack(self):\n",
    "        for i in self.items:\n",
    "            print(i, end=\"\")\n",
    "\n",
    "\n",
    "def reverse(str):\n",
    "    myStack = Stack()\n",
    "    result = Stack()\n",
    "    for i in str:\n",
    "        myStack.push(i)\n",
    "\n",
    "    cnt = myStack.size()\n",
    "    print(cnt)\n",
    "    \n",
    "    for i in range(cnt):\n",
    "        result.push(myStack.pop())    \n",
    "    \n",
    "    return result.items\n",
    "\n",
    "def main():\n",
    "    input = \"Test Seq 12345\"\n",
    "    answer = reverse(input)\n",
    "    print(\"Input string : \", input)\n",
    "    print(\"Reversed string : \", answer)\n",
    "\n",
    "if __name__ == \"__main__\":\n",
    "    main()\n"
   ]
  },
  {
   "cell_type": "code",
   "execution_count": null,
   "metadata": {},
   "outputs": [],
   "source": [
    "\n",
    "def main():\n",
    "    input = \"Test Seq 12345\"\n",
    "    answer = \"\"\n",
    "    while not \n",
    "    answer = reverse(input)\n",
    "    print(\"Input string : \", input)\n",
    "    print(\"Reversed string : \", answer)\n",
    "\n",
    "if __name__ == \"__main__\":\n",
    "    main()"
   ]
  }
 ],
 "metadata": {
  "kernelspec": {
   "display_name": "Python 3",
   "language": "python",
   "name": "python3"
  },
  "language_info": {
   "codemirror_mode": {
    "name": "ipython",
    "version": 3
   },
   "file_extension": ".py",
   "mimetype": "text/x-python",
   "name": "python",
   "nbconvert_exporter": "python",
   "pygments_lexer": "ipython3",
   "version": "3.11.9"
  }
 },
 "nbformat": 4,
 "nbformat_minor": 2
}
