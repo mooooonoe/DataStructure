{
 "cells": [
  {
   "cell_type": "code",
   "execution_count": null,
   "metadata": {},
   "outputs": [],
   "source": [
    "# 문자열 뒤집기\n",
    "# input \"Test Seq 12345\"\n",
    "# output \"54321 qeS tseT\"\n",
    "\n",
    "class Stack:\n",
    "    def __init__(self):\n",
    "        self.items = []\n",
    "        self.__numitems = 0\n",
    "\n",
    "    def push(self, x):\n",
    "        self.items.append(x)\n",
    "        self.__numitems += 1\n",
    "\n",
    "    def pop(self):\n",
    "        return self.items.pop()\n",
    "        self.__numitems -= 1\n",
    "\n",
    "    def size(self):\n",
    "        return self.__numitems\n",
    "    \n",
    "    def isEmpty(self)->bool:\n",
    "        #return self.__numitems == 0\n",
    "        return not bool(self.items)\n",
    "\n",
    "    def print_stack(self):\n",
    "        for i in self.items:\n",
    "            print(i, end=\"\")\n",
    "\n",
    "\n",
    "def reverse(str):\n",
    "    myStack = Stack()\n",
    "    result = Stack()\n",
    "    for i in str:\n",
    "        myStack.push(i)\n",
    "\n",
    "    cnt = myStack.size()\n",
    "    \n",
    "    for i in range(cnt):\n",
    "        result.push(myStack.pop())    \n",
    "    \n",
    "    return result.items\n",
    "\n",
    "def main():\n",
    "    input = \"Test Seq 12345\"\n",
    "    answer = reverse(input)\n",
    "    print(\"Input string : \", input)\n",
    "    print(\"Reversed string : \", answer)\n",
    "\n",
    "if __name__ == \"__main__\":\n",
    "    main()\n"
   ]
  },
  {
   "cell_type": "code",
   "execution_count": null,
   "metadata": {},
   "outputs": [],
   "source": [
    "def reverse(str):\n",
    "    myStack = Stack()\n",
    "    #result = Stack()\n",
    "    for i in str:\n",
    "        myStack.push(i)\n",
    "\n",
    "    result = \"\"\n",
    "    while not myStack.isEmpty():\n",
    "        result += myStack.pop()\n",
    "    \n",
    "    return result\n",
    "\n",
    "\n",
    "def main():\n",
    "    input = \"Test Seq 12345\"\n",
    "    answer = reverse(input)\n",
    "    print(\"Input string : \", input)\n",
    "    print(\"Reversed string : \", answer)\n",
    "\n",
    "if __name__ == \"__main__\":\n",
    "    main()"
   ]
  },
  {
   "cell_type": "code",
   "execution_count": 4,
   "metadata": {},
   "outputs": [
    {
     "name": "stdout",
     "output_type": "stream",
     "text": [
      "Input string: 700 3 47 + 6 * - 4 /\n",
      "Answer: 100\n"
     ]
    }
   ],
   "source": [
    "# postfix\n",
    "\n",
    "# input p = \"700 3 47 + 6 * - 4\"\n",
    "# output 100\n",
    "class Stack:\n",
    "    def __init__(self):\n",
    "        self.items = []\n",
    "        self.__numitems = 0\n",
    "\n",
    "    def push(self, x):\n",
    "        self.items.append(x)\n",
    "        self.__numitems += 1\n",
    "\n",
    "    def pop(self):\n",
    "        return self.items.pop()\n",
    "        self.__numitems -= 1\n",
    "\n",
    "    def size(self):\n",
    "        return self.__numitems\n",
    "    \n",
    "    def isEmpty(self)->bool:\n",
    "        #return self.__numitems == 0\n",
    "        return not bool(self.items)\n",
    "\n",
    "    def print_stack(self):\n",
    "        for i in self.items:\n",
    "            print(i, end=\" \")\n",
    "\n",
    "def evaluate(str):\n",
    "    s = Stack()\n",
    "    # 띄어쓰기로 구분해서 push\n",
    "    input = str.split()\n",
    "\n",
    "    for i in input:\n",
    "        if i.isdigit():\n",
    "            s.push(i)\n",
    "            \n",
    "        else:\n",
    "            # 기호 만나면 pop 2개 해서 계산\n",
    "            a = int(s.pop()); b = int(s.pop())          #### 꼭 int 로 형변환 해줘야함 !!\n",
    "            output = operation(a,b,i)\n",
    "            s.push(output)\n",
    "            \n",
    "    # 끝까지 다 돌면 출력\n",
    "    return s.pop()\n",
    "\n",
    "def operation(opr2:int, opr1:int, ch:str) -> int:\n",
    "    return {'+': opr1 + opr2, '-': opr1 - opr2,'*': opr1 * opr2, '/': opr1 // opr2}[ch]\n",
    "\n",
    "def main():\n",
    "    postfix = \"700 3 47 + 6 * - 4 /\"\n",
    "    print(\"Input string:\",postfix)\n",
    "    answer = evaluate(postfix)\n",
    "    print(\"Answer:\",answer)\n",
    "if __name__ == \"__main__\":\n",
    "    main()"
   ]
  },
  {
   "cell_type": "code",
   "execution_count": null,
   "metadata": {},
   "outputs": [],
   "source": [
    "postfix = \"700 3 47 + 6 * - 4 /\"\n",
    "result = postfix.split()  # 띄어쓰기를 기준으로 분할하여 리스트에 저장\n",
    "print(result)\n",
    "\n",
    "for i in result:\n",
    "    if i.isdigit():\n",
    "        print(i)\n",
    "    else:\n",
    "        continue"
   ]
  },
  {
   "cell_type": "code",
   "execution_count": null,
   "metadata": {},
   "outputs": [],
   "source": [
    "a = 3; b = 47; add = '+'\n",
    "\n",
    "def isOperator(ch) -> bool: \n",
    "    return (ch == '+' or ch == '-' or ch == '*' or ch == '/')\n",
    "\n",
    "\n",
    "print(isOperator(add))\n",
    "\n",
    "def operation(opr2:int, opr1:int, ch) -> int:\n",
    "    return {'+': opr1 + opr2, '-': opr1 - opr2,'*': opr1 * opr2, '/': opr1 // opr2}[ch]\n",
    "\n",
    "print(operation(a,b,add))"
   ]
  },
  {
   "cell_type": "code",
   "execution_count": 2,
   "metadata": {},
   "outputs": [
    {
     "name": "stdout",
     "output_type": "stream",
     "text": [
      "Input string:  700 3 47 + 6 * - 4 /\n",
      "Answer:  100\n",
      "48 57\n"
     ]
    }
   ],
   "source": [
    "def evaluate(p):\n",
    "    s = Stack()\n",
    "    digitPreviously = False\n",
    "    for i in range(len(p)):\n",
    "        ch = p[i]\n",
    "        if ch.isdigit():\n",
    "            if digitPreviously:\n",
    "                tmp = s.pop()\n",
    "                tmp = 10 * tmp + (ord(ch) - ord('0'))\n",
    "                s.push(tmp)\n",
    "            else:\n",
    "                s.push(ord(ch) - ord('0'))\n",
    "            digitPreviously = True\n",
    "        elif isOperator(ch): # ch가 연산자\n",
    "            s.push(operation(s.pop(), s.pop(), ch))\n",
    "            digitPreviously = False\n",
    "        else: \n",
    "            digitPreviously = False\n",
    "        \n",
    "    return s.pop()\n",
    "    \n",
    "def isOperator(ch) -> bool: \n",
    "    return (ch == '+' or ch == '-' or ch == '*' or ch == '/')\n",
    "    \n",
    "def operation(opr2:int, opr1:int, ch) -> int:\n",
    "    return {'+': opr1 + opr2, '-': opr1 - opr2,'*': opr1 * opr2, '/': opr1 // opr2}[ch]\n",
    "\n",
    "def main():\n",
    "    postfix = \"700 3 47 + 6 * - 4 /\"\n",
    "    print(\"Input string: \", postfix);\n",
    "    answer = evaluate(postfix)\n",
    "    print(\"Answer: \", answer)\n",
    "    print(ord('0'), ord('9'))\n",
    "if __name__ == \"__main__\":\n",
    "    main()"
   ]
  },
  {
   "cell_type": "code",
   "execution_count": 3,
   "metadata": {},
   "outputs": [
    {
     "data": {
      "text/plain": [
       "True"
      ]
     },
     "execution_count": 3,
     "metadata": {},
     "output_type": "execute_result"
    }
   ],
   "source": [
    "a = '1'\n",
    "a.isdigit()"
   ]
  },
  {
   "cell_type": "code",
   "execution_count": null,
   "metadata": {},
   "outputs": [],
   "source": []
  }
 ],
 "metadata": {
  "kernelspec": {
   "display_name": "Python 3",
   "language": "python",
   "name": "python3"
  },
  "language_info": {
   "codemirror_mode": {
    "name": "ipython",
    "version": 3
   },
   "file_extension": ".py",
   "mimetype": "text/x-python",
   "name": "python",
   "nbconvert_exporter": "python",
   "pygments_lexer": "ipython3",
   "version": "3.11.9"
  }
 },
 "nbformat": 4,
 "nbformat_minor": 2
}
