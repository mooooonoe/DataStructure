{
 "cells": [
  {
   "cell_type": "markdown",
   "metadata": {},
   "source": [
    "fibonacci"
   ]
  },
  {
   "cell_type": "code",
   "execution_count": 4,
   "metadata": {},
   "outputs": [
    {
     "name": "stdout",
     "output_type": "stream",
     "text": [
      "354224848179261915075\n"
     ]
    }
   ],
   "source": [
    "def fib_fast(n):\n",
    "    if n<= 1:\n",
    "        return n\n",
    "    else:\n",
    "        f = [0]*(n+1)\n",
    "        f[1] = 1\n",
    "        for i in range(2, n+1):\n",
    "            f[i] = f[i-1] + f[i-2]\n",
    "        return f[n]\n",
    "    \n",
    "print(fib_fast(100))"
   ]
  },
  {
   "cell_type": "code",
   "execution_count": 18,
   "metadata": {},
   "outputs": [
    {
     "name": "stdout",
     "output_type": "stream",
     "text": [
      "14930352\n"
     ]
    }
   ],
   "source": [
    "def fib(n):\n",
    "    if n==1 or n==2:\n",
    "        return 1\n",
    "    else:\n",
    "        return fib(n-1)+fib(n-2)\n",
    "    \n",
    "print(fib(36))"
   ]
  },
  {
   "cell_type": "markdown",
   "metadata": {},
   "source": [
    "factorial"
   ]
  },
  {
   "cell_type": "code",
   "execution_count": 21,
   "metadata": {},
   "outputs": [
    {
     "name": "stdout",
     "output_type": "stream",
     "text": [
      "120\n"
     ]
    }
   ],
   "source": [
    "def fact_rec(n):\n",
    "    if n == 0:\n",
    "        return 1\n",
    "    else:\n",
    "        return n*fact_rec(n-1)\n",
    "    \n",
    "print(fact_rec(5))"
   ]
  },
  {
   "cell_type": "code",
   "execution_count": 22,
   "metadata": {},
   "outputs": [
    {
     "name": "stdout",
     "output_type": "stream",
     "text": [
      "120\n"
     ]
    }
   ],
   "source": [
    "def fack(n):\n",
    "    result = 1\n",
    "    for i in range(2, n+1):\n",
    "        result *= i\n",
    "    return result\n",
    "\n",
    "print(fack(5))"
   ]
  },
  {
   "cell_type": "markdown",
   "metadata": {},
   "source": [
    "Tower of Hanoi"
   ]
  },
  {
   "cell_type": "code",
   "execution_count": 25,
   "metadata": {},
   "outputs": [
    {
     "name": "stdout",
     "output_type": "stream",
     "text": [
      "A에서 C로 원반 1을 옮깁니다.\n",
      "A에서 B로 원반 2을 옮깁니다.\n",
      "C에서 B로 원반 1을 옮깁니다.\n",
      "A에서 C로 원반 3을 옮깁니다.\n",
      "B에서 A로 원반 1을 옮깁니다.\n",
      "B에서 C로 원반 2을 옮깁니다.\n",
      "A에서 C로 원반 1을 옮깁니다.\n",
      "A에서 B로 원반 4을 옮깁니다.\n",
      "C에서 B로 원반 1을 옮깁니다.\n",
      "C에서 A로 원반 2을 옮깁니다.\n",
      "B에서 A로 원반 1을 옮깁니다.\n",
      "C에서 B로 원반 3을 옮깁니다.\n",
      "A에서 C로 원반 1을 옮깁니다.\n",
      "A에서 B로 원반 2을 옮깁니다.\n",
      "C에서 B로 원반 1을 옮깁니다.\n"
     ]
    }
   ],
   "source": [
    "def move(n, a, b, c):\n",
    "    if n>0:\n",
    "        move(n-1, a, c, b)\n",
    "        print(f\"{a}에서 {b}로 원반 {n}을 옮깁니다.\")\n",
    "        move(n-1, c,b,a)\n",
    "\n",
    "move(4, 'A','B','C')"
   ]
  },
  {
   "cell_type": "markdown",
   "metadata": {},
   "source": [
    "selection sort"
   ]
  },
  {
   "cell_type": "code",
   "execution_count": 33,
   "metadata": {},
   "outputs": [
    {
     "name": "stdout",
     "output_type": "stream",
     "text": [
      "[1, 2, 3, 5, 9]\n"
     ]
    }
   ],
   "source": [
    "def sort(A):\n",
    "    n = len(A)\n",
    "    for last in range(n-1, 0, -1):\n",
    "        max_index = 0\n",
    "        for i in range(1, last+1):\n",
    "            if A[i] > A[max_index]:\n",
    "                max_index = i\n",
    "\n",
    "        A[last], A[max_index] = A[max_index], A[last]\n",
    "\n",
    "arr = [3, 5, 1, 2, 9]\n",
    "sort(arr)\n",
    "print(arr)"
   ]
  },
  {
   "cell_type": "code",
   "execution_count": 30,
   "metadata": {},
   "outputs": [
    {
     "name": "stdout",
     "output_type": "stream",
     "text": [
      "5\n",
      "4\n",
      "3\n",
      "2\n",
      "1\n"
     ]
    }
   ],
   "source": [
    "A = [1,2,3,4,5]\n",
    "n = len(A)\n",
    "for id in range(n,0,-1):\n",
    "    print(id)"
   ]
  },
  {
   "cell_type": "markdown",
   "metadata": {},
   "source": [
    "DFS"
   ]
  },
  {
   "cell_type": "code",
   "execution_count": 34,
   "metadata": {},
   "outputs": [
    {
     "name": "stdout",
     "output_type": "stream",
     "text": [
      "<__main__.Node object at 0x000001F5C1C48B90>\n",
      "<__main__.Node object at 0x000001F5C1D617D0>\n",
      "<__main__.Node object at 0x000001F5C1D63B90>\n",
      "<__main__.Node object at 0x000001F5C1D604D0>\n",
      "<__main__.Node object at 0x000001F5C1D60890>\n",
      "<__main__.Node object at 0x000001F5C1D60590>\n",
      "<__main__.Node object at 0x000001F5C1D60710>\n",
      "<__main__.Node object at 0x000001F5C1D62C90>\n"
     ]
    }
   ],
   "source": [
    "def DFS(x):\n",
    "    x.visited = True\n",
    "    print(x)\n",
    "    for y in x.connected_nodes:\n",
    "        if not y.visited:\n",
    "            DFS(y)\n",
    "\n",
    "# 노드 클래스 정의\n",
    "class Node:\n",
    "    def __init__(self, value):\n",
    "        self.value = value\n",
    "        self.visited = False\n",
    "        self.connected_nodes = []\n",
    "\n",
    "# 그래프 정의\n",
    "graph = [Node(i) for i in range(8)]\n",
    "graph[0].connected_nodes = [graph[1], graph[2], graph[3]]\n",
    "graph[1].connected_nodes = [graph[0], graph[4], graph[5]]\n",
    "graph[2].connected_nodes = [graph[0], graph[6], graph[7]]\n",
    "graph[3].connected_nodes = [graph[0]]\n",
    "graph[4].connected_nodes = [graph[1]]\n",
    "graph[5].connected_nodes = [graph[1]]\n",
    "graph[6].connected_nodes = [graph[2], graph[7]]\n",
    "graph[7].connected_nodes = [graph[2], graph[6]]\n",
    "\n",
    "# DFS 탐색 시작\n",
    "DFS(graph[0])\n",
    "\n"
   ]
  },
  {
   "cell_type": "code",
   "execution_count": 49,
   "metadata": {},
   "outputs": [
    {
     "name": "stdout",
     "output_type": "stream",
     "text": [
      "1 2 3 7 8 10 50 20 25 "
     ]
    }
   ],
   "source": [
    "# 집합 반복문\n",
    "arr = {1,2, 10, 20, 50, 25,3,1,1,2,3,3,3,7,8, 10}\n",
    "for i in arr:\n",
    "    print(i,end=' ')"
   ]
  },
  {
   "cell_type": "code",
   "execution_count": 51,
   "metadata": {},
   "outputs": [
    {
     "name": "stdout",
     "output_type": "stream",
     "text": [
      "튜플: (1, 2, 3, 4, 5)\n",
      "튜플의 길이: 5\n",
      "튜플의 각 요소:\n",
      "1 2 3 4 5 \n",
      "튜플의 첫 번째 요소: 1\n",
      "튜플의 마지막 요소: 5\n",
      "튜플의 첫 세 요소: (1, 2, 3)\n",
      "튜플의 세 번째부터 마지막 요소까지: (3, 4, 5)\n",
      "가변 객체를 포함한 튜플: (1, 2, [6, 7, 8])\n",
      "가변 객체의 내용 변경 후: (1, 2, [100, 7, 8])\n"
     ]
    }
   ],
   "source": [
    "# 튜플 정의\n",
    "my_tuple = (1, 2, 3, 4, 5)\n",
    "\n",
    "# 튜플 출력\n",
    "print(\"튜플:\", my_tuple)\n",
    "\n",
    "# 튜플의 길이 출력\n",
    "print(\"튜플의 길이:\", len(my_tuple))\n",
    "\n",
    "# 튜플의 각 요소에 접근하여 출력\n",
    "print(\"튜플의 각 요소:\")\n",
    "for item in my_tuple:\n",
    "    print(item, end=' ')\n",
    "print()\n",
    "\n",
    "# 인덱싱을 사용하여 튜플의 특정 요소에 접근\n",
    "print(\"튜플의 첫 번째 요소:\", my_tuple[0])\n",
    "print(\"튜플의 마지막 요소:\", my_tuple[-1])\n",
    "\n",
    "# 슬라이싱을 사용하여 부분 튜플 추출\n",
    "print(\"튜플의 첫 세 요소:\", my_tuple[:3])\n",
    "print(\"튜플의 세 번째부터 마지막 요소까지:\", my_tuple[2:])\n",
    "\n",
    "# 가변 객체를 포함한 튜플\n",
    "mutable_list = [6, 7, 8]\n",
    "mixed_tuple = (1, 2, mutable_list)\n",
    "print(\"가변 객체를 포함한 튜플:\", mixed_tuple)\n",
    "\n",
    "# 가변 객체의 내용 변경\n",
    "mutable_list[0] = 100                           #  list 내용만 바꿀 수 있음\n",
    "print(\"가변 객체의 내용 변경 후:\", mixed_tuple)\n"
   ]
  },
  {
   "cell_type": "markdown",
   "metadata": {},
   "source": [
    "순회자"
   ]
  },
  {
   "cell_type": "code",
   "execution_count": null,
   "metadata": {},
   "outputs": [],
   "source": [
    "def __iter__(self):\n",
    "    return Literator(self)\n",
    "\n",
    "class Literator:\n",
    "    def __init__(self, alist):\n",
    "        self.iterPosition = alist.getNode(0)\n",
    "\n",
    "    def __next__(self):\n",
    "        if self.iterPosition == None:\n",
    "            raise StopIteration\n",
    "        \n",
    "        item = self.iterPostion.item\n",
    "        self.iterPostion = self.iterPostion.next\n",
    "        return item"
   ]
  }
 ],
 "metadata": {
  "kernelspec": {
   "display_name": "base",
   "language": "python",
   "name": "python3"
  },
  "language_info": {
   "codemirror_mode": {
    "name": "ipython",
    "version": 3
   },
   "file_extension": ".py",
   "mimetype": "text/x-python",
   "name": "python",
   "nbconvert_exporter": "python",
   "pygments_lexer": "ipython3",
   "version": "3.11.7"
  }
 },
 "nbformat": 4,
 "nbformat_minor": 2
}
