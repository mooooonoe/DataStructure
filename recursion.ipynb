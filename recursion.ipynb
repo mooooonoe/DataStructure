{
 "cells": [
  {
   "cell_type": "markdown",
   "metadata": {},
   "source": [
    "fibonacci"
   ]
  },
  {
   "cell_type": "code",
   "execution_count": 4,
   "metadata": {},
   "outputs": [
    {
     "name": "stdout",
     "output_type": "stream",
     "text": [
      "354224848179261915075\n"
     ]
    }
   ],
   "source": [
    "def fib_fast(n):\n",
    "    if n<= 1:\n",
    "        return n\n",
    "    else:\n",
    "        f = [0]*(n+1)\n",
    "        f[1] = 1\n",
    "        for i in range(2, n+1):\n",
    "            f[i] = f[i-1] + f[i-2]\n",
    "        return f[n]\n",
    "    \n",
    "print(fib_fast(100))"
   ]
  },
  {
   "cell_type": "code",
   "execution_count": 18,
   "metadata": {},
   "outputs": [
    {
     "name": "stdout",
     "output_type": "stream",
     "text": [
      "14930352\n"
     ]
    }
   ],
   "source": [
    "def fib(n):\n",
    "    if n==1 or n==2:\n",
    "        return 1\n",
    "    else:\n",
    "        return fib(n-1)+fib(n-2)\n",
    "    \n",
    "print(fib(36))"
   ]
  },
  {
   "cell_type": "markdown",
   "metadata": {},
   "source": [
    "factorial"
   ]
  },
  {
   "cell_type": "code",
   "execution_count": 21,
   "metadata": {},
   "outputs": [
    {
     "name": "stdout",
     "output_type": "stream",
     "text": [
      "120\n"
     ]
    }
   ],
   "source": [
    "def fact_rec(n):\n",
    "    if n == 0:\n",
    "        return 1\n",
    "    else:\n",
    "        return n*fact_rec(n-1)\n",
    "    \n",
    "print(fact_rec(5))"
   ]
  },
  {
   "cell_type": "code",
   "execution_count": 22,
   "metadata": {},
   "outputs": [
    {
     "name": "stdout",
     "output_type": "stream",
     "text": [
      "120\n"
     ]
    }
   ],
   "source": [
    "def fack(n):\n",
    "    result = 1\n",
    "    for i in range(2, n+1):\n",
    "        result *= i\n",
    "    return result\n",
    "\n",
    "print(fack(5))"
   ]
  },
  {
   "cell_type": "markdown",
   "metadata": {},
   "source": [
    "Tower of Hanoi"
   ]
  },
  {
   "cell_type": "code",
   "execution_count": 25,
   "metadata": {},
   "outputs": [
    {
     "name": "stdout",
     "output_type": "stream",
     "text": [
      "A에서 C로 원반 1을 옮깁니다.\n",
      "A에서 B로 원반 2을 옮깁니다.\n",
      "C에서 B로 원반 1을 옮깁니다.\n",
      "A에서 C로 원반 3을 옮깁니다.\n",
      "B에서 A로 원반 1을 옮깁니다.\n",
      "B에서 C로 원반 2을 옮깁니다.\n",
      "A에서 C로 원반 1을 옮깁니다.\n",
      "A에서 B로 원반 4을 옮깁니다.\n",
      "C에서 B로 원반 1을 옮깁니다.\n",
      "C에서 A로 원반 2을 옮깁니다.\n",
      "B에서 A로 원반 1을 옮깁니다.\n",
      "C에서 B로 원반 3을 옮깁니다.\n",
      "A에서 C로 원반 1을 옮깁니다.\n",
      "A에서 B로 원반 2을 옮깁니다.\n",
      "C에서 B로 원반 1을 옮깁니다.\n"
     ]
    }
   ],
   "source": [
    "def move(n, a, b, c):\n",
    "    if n>0:\n",
    "        move(n-1, a, c, b)\n",
    "        print(f\"{a}에서 {b}로 원반 {n}을 옮깁니다.\")\n",
    "        move(n-1, c,b,a)\n",
    "\n",
    "move(4, 'A','B','C')"
   ]
  },
  {
   "cell_type": "markdown",
   "metadata": {},
   "source": [
    "selection sort"
   ]
  },
  {
   "cell_type": "code",
   "execution_count": 32,
   "metadata": {},
   "outputs": [
    {
     "ename": "IndexError",
     "evalue": "list index out of range",
     "output_type": "error",
     "traceback": [
      "\u001b[1;31m---------------------------------------------------------------------------\u001b[0m",
      "\u001b[1;31mIndexError\u001b[0m                                Traceback (most recent call last)",
      "Cell \u001b[1;32mIn[32], line 12\u001b[0m\n\u001b[0;32m      9\u001b[0m         A[last], A[max_index] \u001b[38;5;241m=\u001b[39m A[max_index], A[last]\n\u001b[0;32m     11\u001b[0m arr \u001b[38;5;241m=\u001b[39m [\u001b[38;5;241m3\u001b[39m, \u001b[38;5;241m5\u001b[39m, \u001b[38;5;241m1\u001b[39m, \u001b[38;5;241m2\u001b[39m, \u001b[38;5;241m9\u001b[39m]\n\u001b[1;32m---> 12\u001b[0m sort(arr)\n\u001b[0;32m     13\u001b[0m \u001b[38;5;28mprint\u001b[39m(arr)\n",
      "Cell \u001b[1;32mIn[32], line 9\u001b[0m, in \u001b[0;36msort\u001b[1;34m(A)\u001b[0m\n\u001b[0;32m      6\u001b[0m     \u001b[38;5;28;01mif\u001b[39;00m A[i] \u001b[38;5;241m>\u001b[39m A[max_index]:\n\u001b[0;32m      7\u001b[0m         max_index \u001b[38;5;241m=\u001b[39m i\n\u001b[1;32m----> 9\u001b[0m A[last], A[max_index] \u001b[38;5;241m=\u001b[39m A[max_index], A[last]\n",
      "\u001b[1;31mIndexError\u001b[0m: list index out of range"
     ]
    }
   ],
   "source": [
    "def sort(A):\n",
    "    n = len(A)\n",
    "    for last in range(n-1, 0, -1):\n",
    "        max_index = 0\n",
    "        for i in range(1, last+1):\n",
    "            if A[i] > A[max_index]:\n",
    "                max_index = i\n",
    "\n",
    "        A[last], A[max_index] = A[max_index], A[last]\n",
    "\n",
    "arr = [3, 5, 1, 2, 9]\n",
    "sort(arr)\n",
    "print(arr)"
   ]
  },
  {
   "cell_type": "code",
   "execution_count": 30,
   "metadata": {},
   "outputs": [
    {
     "name": "stdout",
     "output_type": "stream",
     "text": [
      "5\n",
      "4\n",
      "3\n",
      "2\n",
      "1\n"
     ]
    }
   ],
   "source": [
    "A = [1,2,3,4,5]\n",
    "n = len(A)\n",
    "for id in range(n,0,-1):\n",
    "    print(id)"
   ]
  },
  {
   "cell_type": "code",
   "execution_count": null,
   "metadata": {},
   "outputs": [],
   "source": []
  }
 ],
 "metadata": {
  "kernelspec": {
   "display_name": "base",
   "language": "python",
   "name": "python3"
  },
  "language_info": {
   "codemirror_mode": {
    "name": "ipython",
    "version": 3
   },
   "file_extension": ".py",
   "mimetype": "text/x-python",
   "name": "python",
   "nbconvert_exporter": "python",
   "pygments_lexer": "ipython3",
   "version": "3.11.7"
  }
 },
 "nbformat": 4,
 "nbformat_minor": 2
}
