{
 "cells": [
  {
   "cell_type": "code",
   "execution_count": null,
   "metadata": {},
   "outputs": [],
   "source": [
    "class Heap:\n",
    "    def __init__(self, *args):\n",
    "        if len(args)!=0:\n",
    "            self.__A = args[0]\n",
    "        else:\n",
    "            self.__A = []\n",
    "            \n",
    "    def insert(self, x):\n",
    "        self.__A.apend(x)\n",
    "        self.__percolateUp(parent)\n",
    "\n",
    "    def deleteMax(self):\n",
    "        if(not self.isEmpty()):\n",
    "            max = self.__A[0]\n",
    "            self.__A[0] = self.__A.pop()\n",
    "            return max\n",
    "        else:\n",
    "            return None\n",
    "        \n",
    "    def __percolateDown(self, i:int):\n",
    "        child = 2*i + 1\n",
    "        right = 2*i + 2\n",
    "        if (child <= len(self.__A)-1):\n",
    "            if(right <= len(self.__A)):\n",
    "                \n",
    "    "
   ]
  },
  {
   "cell_type": "code",
   "execution_count": null,
   "metadata": {},
   "outputs": [],
   "source": []
  }
 ],
 "metadata": {
  "language_info": {
   "name": "python"
  }
 },
 "nbformat": 4,
 "nbformat_minor": 2
}
